{
 "cells": [
  {
   "cell_type": "code",
   "execution_count": 1,
   "id": "4cb4610e-4619-44b6-b3f8-64b814fbd865",
   "metadata": {},
   "outputs": [],
   "source": [
    "# importing the required libraries\n",
    "import pandas as pd\n",
    "import numpy as np\n",
    "import matplotlib.pyplot as plt \n",
    "import seaborn as sns\n",
    "import warnings\n",
    "warnings.filterwarnings('ignore')"
   ]
  },
  {
   "cell_type": "code",
   "execution_count": 2,
   "id": "7b447cf9-85ac-4d55-aa3c-3c16596da53e",
   "metadata": {},
   "outputs": [
    {
     "data": {
      "text/html": [
       "<div>\n",
       "<style scoped>\n",
       "    .dataframe tbody tr th:only-of-type {\n",
       "        vertical-align: middle;\n",
       "    }\n",
       "\n",
       "    .dataframe tbody tr th {\n",
       "        vertical-align: top;\n",
       "    }\n",
       "\n",
       "    .dataframe thead th {\n",
       "        text-align: right;\n",
       "    }\n",
       "</style>\n",
       "<table border=\"1\" class=\"dataframe\">\n",
       "  <thead>\n",
       "    <tr style=\"text-align: right;\">\n",
       "      <th></th>\n",
       "      <th>order_id</th>\n",
       "      <th>customer_number</th>\n",
       "      <th>transaction_date</th>\n",
       "      <th>description</th>\n",
       "      <th>total_qty</th>\n",
       "      <th>net_total</th>\n",
       "      <th>loyalty_amount</th>\n",
       "      <th>loyalty_points</th>\n",
       "      <th>discount_amount</th>\n",
       "      <th>customer_group</th>\n",
       "      <th>territory</th>\n",
       "      <th>delivery_date</th>\n",
       "      <th>delivery_window_end_time</th>\n",
       "      <th>delivery_window_start_time</th>\n",
       "      <th>set_warehouse</th>\n",
       "      <th>duka_latitude</th>\n",
       "      <th>duka_longitude</th>\n",
       "    </tr>\n",
       "  </thead>\n",
       "  <tbody>\n",
       "    <tr>\n",
       "      <th>0</th>\n",
       "      <td>04aeddd4-d9b3-4cca-ab3b-072ca177a3e1</td>\n",
       "      <td>ID_172101</td>\n",
       "      <td>28/03/2022</td>\n",
       "      <td>Steam Energy Energy Drink 400ML CARTON (1.0 Item)</td>\n",
       "      <td>6</td>\n",
       "      <td>2231.57</td>\n",
       "      <td>0</td>\n",
       "      <td>0</td>\n",
       "      <td>66.38</td>\n",
       "      <td>Individual</td>\n",
       "      <td>Meru</td>\n",
       "      <td>29/03/2022</td>\n",
       "      <td>19:00:00</td>\n",
       "      <td>13:00:00</td>\n",
       "      <td>Meru Main - KDKE</td>\n",
       "      <td>0.036784</td>\n",
       "      <td>37.654155</td>\n",
       "    </tr>\n",
       "    <tr>\n",
       "      <th>1</th>\n",
       "      <td>04aeddd4-d9b3-4cca-ab3b-072ca177a3e1</td>\n",
       "      <td>ID_172101</td>\n",
       "      <td>28/03/2022</td>\n",
       "      <td>Sumo Candles 8PC CARTON (12.0 Outers)</td>\n",
       "      <td>6</td>\n",
       "      <td>2231.57</td>\n",
       "      <td>0</td>\n",
       "      <td>0</td>\n",
       "      <td>66.38</td>\n",
       "      <td>Individual</td>\n",
       "      <td>Meru</td>\n",
       "      <td>29/03/2022</td>\n",
       "      <td>19:00:00</td>\n",
       "      <td>13:00:00</td>\n",
       "      <td>Meru Main - KDKE</td>\n",
       "      <td>0.036784</td>\n",
       "      <td>37.654155</td>\n",
       "    </tr>\n",
       "    <tr>\n",
       "      <th>2</th>\n",
       "      <td>04aeddd4-d9b3-4cca-ab3b-072ca177a3e1</td>\n",
       "      <td>ID_172101</td>\n",
       "      <td>28/03/2022</td>\n",
       "      <td>Rhino Matches Kubwa 10 Boxes OUTER (1.0 Item)</td>\n",
       "      <td>6</td>\n",
       "      <td>2231.57</td>\n",
       "      <td>0</td>\n",
       "      <td>0</td>\n",
       "      <td>66.38</td>\n",
       "      <td>Individual</td>\n",
       "      <td>Meru</td>\n",
       "      <td>29/03/2022</td>\n",
       "      <td>19:00:00</td>\n",
       "      <td>13:00:00</td>\n",
       "      <td>Meru Main - KDKE</td>\n",
       "      <td>0.036784</td>\n",
       "      <td>37.654155</td>\n",
       "    </tr>\n",
       "    <tr>\n",
       "      <th>3</th>\n",
       "      <td>4da580db-3b2c-4dff-a181-9c1341e05ea5</td>\n",
       "      <td>ID_172101</td>\n",
       "      <td>12/03/2022</td>\n",
       "      <td>Dawn Tissue Rolls Smart 40PC BALE (1.0 Bale)</td>\n",
       "      <td>5</td>\n",
       "      <td>3637.91</td>\n",
       "      <td>0</td>\n",
       "      <td>0</td>\n",
       "      <td>38.53</td>\n",
       "      <td>Individual</td>\n",
       "      <td>Meru</td>\n",
       "      <td>14/03/2022</td>\n",
       "      <td>14:00:00</td>\n",
       "      <td>08:00:00</td>\n",
       "      <td>Meru Main - KDKE</td>\n",
       "      <td>0.036784</td>\n",
       "      <td>37.654155</td>\n",
       "    </tr>\n",
       "    <tr>\n",
       "      <th>4</th>\n",
       "      <td>4da580db-3b2c-4dff-a181-9c1341e05ea5</td>\n",
       "      <td>ID_172101</td>\n",
       "      <td>12/03/2022</td>\n",
       "      <td>Sawa Bath Soap 125G White DOZEN (1.0 Dzn)</td>\n",
       "      <td>5</td>\n",
       "      <td>3637.91</td>\n",
       "      <td>0</td>\n",
       "      <td>0</td>\n",
       "      <td>38.53</td>\n",
       "      <td>Individual</td>\n",
       "      <td>Meru</td>\n",
       "      <td>14/03/2022</td>\n",
       "      <td>14:00:00</td>\n",
       "      <td>08:00:00</td>\n",
       "      <td>Meru Main - KDKE</td>\n",
       "      <td>0.036784</td>\n",
       "      <td>37.654155</td>\n",
       "    </tr>\n",
       "  </tbody>\n",
       "</table>\n",
       "</div>"
      ],
      "text/plain": [
       "                               order_id customer_number transaction_date  \\\n",
       "0  04aeddd4-d9b3-4cca-ab3b-072ca177a3e1       ID_172101       28/03/2022   \n",
       "1  04aeddd4-d9b3-4cca-ab3b-072ca177a3e1       ID_172101       28/03/2022   \n",
       "2  04aeddd4-d9b3-4cca-ab3b-072ca177a3e1       ID_172101       28/03/2022   \n",
       "3  4da580db-3b2c-4dff-a181-9c1341e05ea5       ID_172101       12/03/2022   \n",
       "4  4da580db-3b2c-4dff-a181-9c1341e05ea5       ID_172101       12/03/2022   \n",
       "\n",
       "                                         description  total_qty  net_total  \\\n",
       "0  Steam Energy Energy Drink 400ML CARTON (1.0 Item)          6    2231.57   \n",
       "1              Sumo Candles 8PC CARTON (12.0 Outers)          6    2231.57   \n",
       "2      Rhino Matches Kubwa 10 Boxes OUTER (1.0 Item)          6    2231.57   \n",
       "3       Dawn Tissue Rolls Smart 40PC BALE (1.0 Bale)          5    3637.91   \n",
       "4          Sawa Bath Soap 125G White DOZEN (1.0 Dzn)          5    3637.91   \n",
       "\n",
       "   loyalty_amount  loyalty_points  discount_amount customer_group territory  \\\n",
       "0               0               0            66.38     Individual      Meru   \n",
       "1               0               0            66.38     Individual      Meru   \n",
       "2               0               0            66.38     Individual      Meru   \n",
       "3               0               0            38.53     Individual      Meru   \n",
       "4               0               0            38.53     Individual      Meru   \n",
       "\n",
       "  delivery_date delivery_window_end_time delivery_window_start_time  \\\n",
       "0    29/03/2022                 19:00:00                   13:00:00   \n",
       "1    29/03/2022                 19:00:00                   13:00:00   \n",
       "2    29/03/2022                 19:00:00                   13:00:00   \n",
       "3    14/03/2022                 14:00:00                   08:00:00   \n",
       "4    14/03/2022                 14:00:00                   08:00:00   \n",
       "\n",
       "      set_warehouse  duka_latitude  duka_longitude  \n",
       "0  Meru Main - KDKE       0.036784       37.654155  \n",
       "1  Meru Main - KDKE       0.036784       37.654155  \n",
       "2  Meru Main - KDKE       0.036784       37.654155  \n",
       "3  Meru Main - KDKE       0.036784       37.654155  \n",
       "4  Meru Main - KDKE       0.036784       37.654155  "
      ]
     },
     "execution_count": 2,
     "metadata": {},
     "output_type": "execute_result"
    }
   ],
   "source": [
    "# Reading the delivery dataset \n",
    "delivery = pd.read_csv(r'dataset.csv')\n",
    "delivery.head()"
   ]
  },
  {
   "cell_type": "code",
   "execution_count": 3,
   "id": "8b8deb1c-1d3b-498e-8c29-135f25cfac6a",
   "metadata": {},
   "outputs": [
    {
     "data": {
      "text/plain": [
       "(43718, 17)"
      ]
     },
     "execution_count": 3,
     "metadata": {},
     "output_type": "execute_result"
    }
   ],
   "source": [
    "delivery.shape"
   ]
  },
  {
   "cell_type": "markdown",
   "id": "0314ec9f-0fb8-47b5-bdb5-bc44c12f7b9b",
   "metadata": {},
   "source": [
    "The dataset contains 43718 rows and 17 columns"
   ]
  },
  {
   "cell_type": "code",
   "execution_count": 4,
   "id": "44796fcc-6733-4ead-99cf-d3dfbbc34060",
   "metadata": {},
   "outputs": [
    {
     "name": "stdout",
     "output_type": "stream",
     "text": [
      "<class 'pandas.core.frame.DataFrame'>\n",
      "RangeIndex: 43718 entries, 0 to 43717\n",
      "Data columns (total 17 columns):\n",
      " #   Column                      Non-Null Count  Dtype  \n",
      "---  ------                      --------------  -----  \n",
      " 0   order_id                    43718 non-null  object \n",
      " 1   customer_number             43718 non-null  object \n",
      " 2   transaction_date            43718 non-null  object \n",
      " 3   description                 43718 non-null  object \n",
      " 4   total_qty                   43718 non-null  int64  \n",
      " 5   net_total                   43718 non-null  float64\n",
      " 6   loyalty_amount              43718 non-null  int64  \n",
      " 7   loyalty_points              43718 non-null  int64  \n",
      " 8   discount_amount             43718 non-null  float64\n",
      " 9   customer_group              43718 non-null  object \n",
      " 10  territory                   43718 non-null  object \n",
      " 11  delivery_date               43718 non-null  object \n",
      " 12  delivery_window_end_time    43718 non-null  object \n",
      " 13  delivery_window_start_time  43718 non-null  object \n",
      " 14  set_warehouse               43718 non-null  object \n",
      " 15  duka_latitude               43718 non-null  float64\n",
      " 16  duka_longitude              43718 non-null  float64\n",
      "dtypes: float64(4), int64(3), object(10)\n",
      "memory usage: 5.7+ MB\n"
     ]
    }
   ],
   "source": [
    "delivery.info()"
   ]
  },
  {
   "cell_type": "code",
   "execution_count": 5,
   "id": "418347e4-769b-4601-a22c-4c1383b68c47",
   "metadata": {},
   "outputs": [
    {
     "data": {
      "text/plain": [
       "order_id                      0\n",
       "customer_number               0\n",
       "transaction_date              0\n",
       "description                   0\n",
       "total_qty                     0\n",
       "net_total                     0\n",
       "loyalty_amount                0\n",
       "loyalty_points                0\n",
       "discount_amount               0\n",
       "customer_group                0\n",
       "territory                     0\n",
       "delivery_date                 0\n",
       "delivery_window_end_time      0\n",
       "delivery_window_start_time    0\n",
       "set_warehouse                 0\n",
       "duka_latitude                 0\n",
       "duka_longitude                0\n",
       "dtype: int64"
      ]
     },
     "execution_count": 5,
     "metadata": {},
     "output_type": "execute_result"
    }
   ],
   "source": [
    "delivery.isnull().sum()"
   ]
  },
  {
   "cell_type": "markdown",
   "id": "f830ff82-9ec5-45c4-94c8-64db74aa4ca0",
   "metadata": {},
   "source": [
    "There are no null values in the dataset."
   ]
  },
  {
   "cell_type": "code",
   "execution_count": 6,
   "id": "0243cfb7-6611-4810-ae62-8b1bb56878e1",
   "metadata": {},
   "outputs": [
    {
     "data": {
      "text/html": [
       "<div>\n",
       "<style scoped>\n",
       "    .dataframe tbody tr th:only-of-type {\n",
       "        vertical-align: middle;\n",
       "    }\n",
       "\n",
       "    .dataframe tbody tr th {\n",
       "        vertical-align: top;\n",
       "    }\n",
       "\n",
       "    .dataframe thead th {\n",
       "        text-align: right;\n",
       "    }\n",
       "</style>\n",
       "<table border=\"1\" class=\"dataframe\">\n",
       "  <thead>\n",
       "    <tr style=\"text-align: right;\">\n",
       "      <th></th>\n",
       "      <th>total_qty</th>\n",
       "      <th>net_total</th>\n",
       "      <th>loyalty_amount</th>\n",
       "      <th>loyalty_points</th>\n",
       "      <th>discount_amount</th>\n",
       "      <th>duka_latitude</th>\n",
       "      <th>duka_longitude</th>\n",
       "    </tr>\n",
       "  </thead>\n",
       "  <tbody>\n",
       "    <tr>\n",
       "      <th>count</th>\n",
       "      <td>43718.000000</td>\n",
       "      <td>4.371800e+04</td>\n",
       "      <td>43718.0</td>\n",
       "      <td>43718.0</td>\n",
       "      <td>43718.000000</td>\n",
       "      <td>43718.000000</td>\n",
       "      <td>43718.000000</td>\n",
       "    </tr>\n",
       "    <tr>\n",
       "      <th>mean</th>\n",
       "      <td>6.603367</td>\n",
       "      <td>1.046441e+04</td>\n",
       "      <td>0.0</td>\n",
       "      <td>0.0</td>\n",
       "      <td>178.727343</td>\n",
       "      <td>-1.218860</td>\n",
       "      <td>36.898733</td>\n",
       "    </tr>\n",
       "    <tr>\n",
       "      <th>std</th>\n",
       "      <td>13.364121</td>\n",
       "      <td>3.023364e+04</td>\n",
       "      <td>0.0</td>\n",
       "      <td>0.0</td>\n",
       "      <td>496.646786</td>\n",
       "      <td>1.066350</td>\n",
       "      <td>1.130535</td>\n",
       "    </tr>\n",
       "    <tr>\n",
       "      <th>min</th>\n",
       "      <td>1.000000</td>\n",
       "      <td>1.810300e+02</td>\n",
       "      <td>0.0</td>\n",
       "      <td>0.0</td>\n",
       "      <td>0.000000</td>\n",
       "      <td>-4.289833</td>\n",
       "      <td>34.455751</td>\n",
       "    </tr>\n",
       "    <tr>\n",
       "      <th>25%</th>\n",
       "      <td>2.000000</td>\n",
       "      <td>2.556318e+03</td>\n",
       "      <td>0.0</td>\n",
       "      <td>0.0</td>\n",
       "      <td>35.600000</td>\n",
       "      <td>-1.314316</td>\n",
       "      <td>36.715435</td>\n",
       "    </tr>\n",
       "    <tr>\n",
       "      <th>50%</th>\n",
       "      <td>4.000000</td>\n",
       "      <td>4.864660e+03</td>\n",
       "      <td>0.0</td>\n",
       "      <td>0.0</td>\n",
       "      <td>72.700000</td>\n",
       "      <td>-1.218128</td>\n",
       "      <td>36.905558</td>\n",
       "    </tr>\n",
       "    <tr>\n",
       "      <th>75%</th>\n",
       "      <td>7.000000</td>\n",
       "      <td>9.484540e+03</td>\n",
       "      <td>0.0</td>\n",
       "      <td>0.0</td>\n",
       "      <td>155.250000</td>\n",
       "      <td>-0.628575</td>\n",
       "      <td>37.023091</td>\n",
       "    </tr>\n",
       "    <tr>\n",
       "      <th>max</th>\n",
       "      <td>500.000000</td>\n",
       "      <td>1.379599e+06</td>\n",
       "      <td>0.0</td>\n",
       "      <td>0.0</td>\n",
       "      <td>20231.250000</td>\n",
       "      <td>0.885170</td>\n",
       "      <td>40.121896</td>\n",
       "    </tr>\n",
       "  </tbody>\n",
       "</table>\n",
       "</div>"
      ],
      "text/plain": [
       "          total_qty     net_total  loyalty_amount  loyalty_points  \\\n",
       "count  43718.000000  4.371800e+04         43718.0         43718.0   \n",
       "mean       6.603367  1.046441e+04             0.0             0.0   \n",
       "std       13.364121  3.023364e+04             0.0             0.0   \n",
       "min        1.000000  1.810300e+02             0.0             0.0   \n",
       "25%        2.000000  2.556318e+03             0.0             0.0   \n",
       "50%        4.000000  4.864660e+03             0.0             0.0   \n",
       "75%        7.000000  9.484540e+03             0.0             0.0   \n",
       "max      500.000000  1.379599e+06             0.0             0.0   \n",
       "\n",
       "       discount_amount  duka_latitude  duka_longitude  \n",
       "count     43718.000000   43718.000000    43718.000000  \n",
       "mean        178.727343      -1.218860       36.898733  \n",
       "std         496.646786       1.066350        1.130535  \n",
       "min           0.000000      -4.289833       34.455751  \n",
       "25%          35.600000      -1.314316       36.715435  \n",
       "50%          72.700000      -1.218128       36.905558  \n",
       "75%         155.250000      -0.628575       37.023091  \n",
       "max       20231.250000       0.885170       40.121896  "
      ]
     },
     "execution_count": 6,
     "metadata": {},
     "output_type": "execute_result"
    }
   ],
   "source": [
    "delivery.describe()"
   ]
  },
  {
   "cell_type": "markdown",
   "id": "ed875f3e-6505-4d7f-8a78-54ef56365c09",
   "metadata": {},
   "source": [
    " * The average total quantity is 6.6\n",
    " * The average net total results to about 10,464"
   ]
  },
  {
   "cell_type": "code",
   "execution_count": 7,
   "id": "857766c9-cb4a-44aa-8222-d594406bab1d",
   "metadata": {},
   "outputs": [
    {
     "data": {
      "text/plain": [
       "array(['Meru Main - KDKE', 'Athi River Main - KDKE', 'Nakuru Main - KDKE',\n",
       "       'Thika Rd Main - KDKE', 'Mtwapa Mombasa Main - KDKE',\n",
       "       'Eastlands Main - KDKE', 'Kawangware Main - KDKE',\n",
       "       'Majengo Mombasa Main - KDKE', 'Ruiru Main - KDKE',\n",
       "       'Ruai Main - KDKE', 'Voi Main - KDKE', 'Kiambu Main - KDKE',\n",
       "       'Eldoret Main - KDKE', 'Embu Main - KDKE', 'Juja Main - KDKE',\n",
       "       'Ongata Rongai Main - KDKE', 'Kisumu 1 Main - KDKE',\n",
       "       'Kisii Main - KDKE', 'Karatina Main - KDKE'], dtype=object)"
      ]
     },
     "execution_count": 7,
     "metadata": {},
     "output_type": "execute_result"
    }
   ],
   "source": [
    "# what are the unique territories\n",
    "delivery['set_warehouse'].unique()"
   ]
  },
  {
   "cell_type": "code",
   "execution_count": 8,
   "id": "99e6d29d-6f82-4200-8c35-66c6dd3e2239",
   "metadata": {},
   "outputs": [
    {
     "data": {
      "text/html": [
       "<div>\n",
       "<style scoped>\n",
       "    .dataframe tbody tr th:only-of-type {\n",
       "        vertical-align: middle;\n",
       "    }\n",
       "\n",
       "    .dataframe tbody tr th {\n",
       "        vertical-align: top;\n",
       "    }\n",
       "\n",
       "    .dataframe thead th {\n",
       "        text-align: right;\n",
       "    }\n",
       "</style>\n",
       "<table border=\"1\" class=\"dataframe\">\n",
       "  <thead>\n",
       "    <tr style=\"text-align: right;\">\n",
       "      <th></th>\n",
       "      <th>id</th>\n",
       "      <th>territory</th>\n",
       "      <th>warehouse_latitude</th>\n",
       "      <th>warehouse_longitude</th>\n",
       "    </tr>\n",
       "  </thead>\n",
       "  <tbody>\n",
       "    <tr>\n",
       "      <th>0</th>\n",
       "      <td>1</td>\n",
       "      <td>Athi River</td>\n",
       "      <td>-1.427556</td>\n",
       "      <td>36.970444</td>\n",
       "    </tr>\n",
       "    <tr>\n",
       "      <th>1</th>\n",
       "      <td>2</td>\n",
       "      <td>Eastlands</td>\n",
       "      <td>-1.324139</td>\n",
       "      <td>36.867000</td>\n",
       "    </tr>\n",
       "    <tr>\n",
       "      <th>2</th>\n",
       "      <td>3</td>\n",
       "      <td>Eldoret</td>\n",
       "      <td>0.520185</td>\n",
       "      <td>35.256327</td>\n",
       "    </tr>\n",
       "    <tr>\n",
       "      <th>3</th>\n",
       "      <td>4</td>\n",
       "      <td>Embu</td>\n",
       "      <td>-0.542030</td>\n",
       "      <td>37.454250</td>\n",
       "    </tr>\n",
       "    <tr>\n",
       "      <th>4</th>\n",
       "      <td>5</td>\n",
       "      <td>Juja</td>\n",
       "      <td>-1.108111</td>\n",
       "      <td>37.013861</td>\n",
       "    </tr>\n",
       "  </tbody>\n",
       "</table>\n",
       "</div>"
      ],
      "text/plain": [
       "   id   territory  warehouse_latitude  warehouse_longitude\n",
       "0   1  Athi River           -1.427556            36.970444\n",
       "1   2   Eastlands           -1.324139            36.867000\n",
       "2   3     Eldoret            0.520185            35.256327\n",
       "3   4        Embu           -0.542030            37.454250\n",
       "4   5        Juja           -1.108111            37.013861"
      ]
     },
     "execution_count": 8,
     "metadata": {},
     "output_type": "execute_result"
    }
   ],
   "source": [
    "# read the centroids dataset \n",
    "centroids = pd.read_csv(r'territories_centroids.csv')\n",
    "centroids.head()"
   ]
  },
  {
   "cell_type": "code",
   "execution_count": 9,
   "id": "6e2b7d94-35e5-4aa6-824d-27ec2225de13",
   "metadata": {},
   "outputs": [
    {
     "data": {
      "text/plain": [
       "(19, 4)"
      ]
     },
     "execution_count": 9,
     "metadata": {},
     "output_type": "execute_result"
    }
   ],
   "source": [
    "centroids.shape"
   ]
  },
  {
   "cell_type": "markdown",
   "id": "a6bef25d-5e42-4c75-9d56-117adb59e6a0",
   "metadata": {},
   "source": [
    "The centroids dataset cointains 19 rows and 4 columns"
   ]
  },
  {
   "cell_type": "code",
   "execution_count": 10,
   "id": "b1f5b2c9-6221-4758-9c49-33658e3fbc57",
   "metadata": {},
   "outputs": [
    {
     "name": "stdout",
     "output_type": "stream",
     "text": [
      "<class 'pandas.core.frame.DataFrame'>\n",
      "RangeIndex: 19 entries, 0 to 18\n",
      "Data columns (total 4 columns):\n",
      " #   Column               Non-Null Count  Dtype  \n",
      "---  ------               --------------  -----  \n",
      " 0   id                   19 non-null     int64  \n",
      " 1   territory            19 non-null     object \n",
      " 2   warehouse_latitude   19 non-null     float64\n",
      " 3   warehouse_longitude  19 non-null     float64\n",
      "dtypes: float64(2), int64(1), object(1)\n",
      "memory usage: 740.0+ bytes\n"
     ]
    }
   ],
   "source": [
    "centroids.info()"
   ]
  },
  {
   "cell_type": "code",
   "execution_count": 11,
   "id": "1774738d-ea95-40c6-9be7-0ec5ad807345",
   "metadata": {},
   "outputs": [
    {
     "data": {
      "text/plain": [
       "id                     0\n",
       "territory              0\n",
       "warehouse_latitude     0\n",
       "warehouse_longitude    0\n",
       "dtype: int64"
      ]
     },
     "execution_count": 11,
     "metadata": {},
     "output_type": "execute_result"
    }
   ],
   "source": [
    "centroids.isnull().sum()"
   ]
  },
  {
   "cell_type": "markdown",
   "id": "8744a46e-3cf6-4b2a-83da-8f9780e915ae",
   "metadata": {},
   "source": [
    "There are no null values on the cenrtoids dataset "
   ]
  },
  {
   "cell_type": "code",
   "execution_count": 12,
   "id": "a57980ec-d314-4fe3-a7bb-64ac285c66d2",
   "metadata": {},
   "outputs": [
    {
     "data": {
      "text/plain": [
       "array(['Athi River', 'Eastlands', 'Eldoret', 'Embu', 'Juja', 'Karatina',\n",
       "       'Kawangware', 'Kiambu', 'Kisii', 'Kisumu1', 'Majengo Mombasa',\n",
       "       'Meru', 'Mtwapa Mombasa', 'Nakuru', 'Ongata Rongai', 'Ruai',\n",
       "       'Ruiru', 'Thika Rd', 'Voi'], dtype=object)"
      ]
     },
     "execution_count": 12,
     "metadata": {},
     "output_type": "execute_result"
    }
   ],
   "source": [
    "centroids['territory'].unique()"
   ]
  },
  {
   "cell_type": "code",
   "execution_count": 13,
   "id": "bd320af2-4454-4673-93ee-0033d0de5788",
   "metadata": {},
   "outputs": [],
   "source": [
    "from sklearn.cluster import KMeans"
   ]
  },
  {
   "cell_type": "code",
   "execution_count": 14,
   "id": "7010b026-5d49-4942-8bb4-bb5c82935c98",
   "metadata": {},
   "outputs": [],
   "source": [
    "# coming up with the columns used for clustering \n",
    "duka = delivery[['customer_number', 'duka_latitude', 'duka_longitude']].drop_duplicates().reset_index(drop=True)"
   ]
  },
  {
   "cell_type": "code",
   "execution_count": 15,
   "id": "bb7d9296-e8fd-4cd1-b9e9-eadd508bea85",
   "metadata": {},
   "outputs": [],
   "source": [
    "# warehouse longitudes and latitudes \n",
    "warehouse = centroids[['territory', 'warehouse_latitude', 'warehouse_longitude']]"
   ]
  },
  {
   "cell_type": "code",
   "execution_count": 16,
   "id": "0379632c-0537-45c1-95df-81d5d14e9537",
   "metadata": {},
   "outputs": [],
   "source": [
    "duka_coords = duka[['duka_latitude', 'duka_longitude']].values\n",
    "\n",
    "#implementing the KMeans clustering model \n",
    "num_clusters = warehouse.shape[0] \n",
    "kmeans = KMeans(n_clusters=num_clusters, init = 'k-means++', random_state=42) \n",
    "duka['cluster'] = kmeans.fit_predict(duka_coords)"
   ]
  },
  {
   "cell_type": "code",
   "execution_count": 17,
   "id": "c4e18ee2-485a-4e9f-93f9-cb898af3203a",
   "metadata": {},
   "outputs": [],
   "source": [
    "warehouse_coords = warehouse[['warehouse_latitude','warehouse_longitude']].values \n",
    "warehouse['cluster'] = range(num_clusters) "
   ]
  },
  {
   "cell_type": "code",
   "execution_count": 18,
   "id": "3a9417ea-4f9a-4fba-8b85-b617b8d3cb1c",
   "metadata": {},
   "outputs": [],
   "source": [
    "#joining the two clusters \n",
    "duka = duka.merge(warehouse, left_on='cluster', right_on='cluster', how = 'left', suffixes=('_duka', '_warehouse'))"
   ]
  },
  {
   "cell_type": "code",
   "execution_count": 19,
   "id": "879330da-13eb-4784-9b9e-96b7e2beccef",
   "metadata": {},
   "outputs": [
    {
     "data": {
      "text/html": [
       "<div>\n",
       "<style scoped>\n",
       "    .dataframe tbody tr th:only-of-type {\n",
       "        vertical-align: middle;\n",
       "    }\n",
       "\n",
       "    .dataframe tbody tr th {\n",
       "        vertical-align: top;\n",
       "    }\n",
       "\n",
       "    .dataframe thead th {\n",
       "        text-align: right;\n",
       "    }\n",
       "</style>\n",
       "<table border=\"1\" class=\"dataframe\">\n",
       "  <thead>\n",
       "    <tr style=\"text-align: right;\">\n",
       "      <th></th>\n",
       "      <th>customer_number</th>\n",
       "      <th>duka_latitude</th>\n",
       "      <th>duka_longitude</th>\n",
       "      <th>cluster</th>\n",
       "      <th>territory</th>\n",
       "      <th>warehouse_latitude</th>\n",
       "      <th>warehouse_longitude</th>\n",
       "    </tr>\n",
       "  </thead>\n",
       "  <tbody>\n",
       "    <tr>\n",
       "      <th>0</th>\n",
       "      <td>ID_172101</td>\n",
       "      <td>0.036784</td>\n",
       "      <td>37.654155</td>\n",
       "      <td>8</td>\n",
       "      <td>Kisii</td>\n",
       "      <td>-0.671333</td>\n",
       "      <td>34.767889</td>\n",
       "    </tr>\n",
       "    <tr>\n",
       "      <th>1</th>\n",
       "      <td>ID_007289</td>\n",
       "      <td>-1.518684</td>\n",
       "      <td>37.267866</td>\n",
       "      <td>16</td>\n",
       "      <td>Ruiru</td>\n",
       "      <td>-1.228694</td>\n",
       "      <td>36.989111</td>\n",
       "    </tr>\n",
       "    <tr>\n",
       "      <th>2</th>\n",
       "      <td>ID_063088</td>\n",
       "      <td>-0.271481</td>\n",
       "      <td>36.101636</td>\n",
       "      <td>5</td>\n",
       "      <td>Karatina</td>\n",
       "      <td>-0.473139</td>\n",
       "      <td>37.126222</td>\n",
       "    </tr>\n",
       "    <tr>\n",
       "      <th>3</th>\n",
       "      <td>ID_196874</td>\n",
       "      <td>-1.241158</td>\n",
       "      <td>36.896701</td>\n",
       "      <td>0</td>\n",
       "      <td>Athi River</td>\n",
       "      <td>-1.427556</td>\n",
       "      <td>36.970444</td>\n",
       "    </tr>\n",
       "    <tr>\n",
       "      <th>4</th>\n",
       "      <td>ID_140563</td>\n",
       "      <td>-4.007936</td>\n",
       "      <td>39.690049</td>\n",
       "      <td>1</td>\n",
       "      <td>Eastlands</td>\n",
       "      <td>-1.324139</td>\n",
       "      <td>36.867000</td>\n",
       "    </tr>\n",
       "  </tbody>\n",
       "</table>\n",
       "</div>"
      ],
      "text/plain": [
       "  customer_number  duka_latitude  duka_longitude  cluster   territory  \\\n",
       "0       ID_172101       0.036784       37.654155        8       Kisii   \n",
       "1       ID_007289      -1.518684       37.267866       16       Ruiru   \n",
       "2       ID_063088      -0.271481       36.101636        5    Karatina   \n",
       "3       ID_196874      -1.241158       36.896701        0  Athi River   \n",
       "4       ID_140563      -4.007936       39.690049        1   Eastlands   \n",
       "\n",
       "   warehouse_latitude  warehouse_longitude  \n",
       "0           -0.671333            34.767889  \n",
       "1           -1.228694            36.989111  \n",
       "2           -0.473139            37.126222  \n",
       "3           -1.427556            36.970444  \n",
       "4           -1.324139            36.867000  "
      ]
     },
     "execution_count": 19,
     "metadata": {},
     "output_type": "execute_result"
    }
   ],
   "source": [
    "duka.head()"
   ]
  },
  {
   "cell_type": "code",
   "execution_count": 22,
   "id": "70196bdb-5d51-48c0-9b64-2e800ef1420b",
   "metadata": {},
   "outputs": [
    {
     "data": {
      "image/png": "[encoded data removed]",
      "text/plain": [
       "<Figure size 1200x800 with 1 Axes>"
      ]
     },
     "metadata": {},
     "output_type": "display_data"
    },
    {
     "data": {
      "text/plain": [
       "<Figure size 640x480 with 0 Axes>"
      ]
     },
     "metadata": {},
     "output_type": "display_data"
    }
   ],
   "source": [
    "# Plot the clusters on a map\n",
    "plt.figure(figsize=(12, 8))\n",
    "for cluster_id in range(num_clusters):\n",
    "    duka_cluster = duka[duka['cluster'] == cluster_id]\n",
    "    plt.scatter(duka_cluster['duka_latitude'], duka_cluster['duka_longitude'], label=f'Cluster {cluster_id + 1}')\n",
    "\n",
    "# Plot warehouse locations\n",
    "plt.scatter(warehouse['warehouse_latitude'], warehouse['warehouse_longitude'], color='red', marker='x', s=100, label='Warehouse')\n",
    "\n",
    "plt.xlabel('Latitude')\n",
    "plt.ylabel('Longitude')\n",
    "plt.legend()\n",
    "plt.title('duka Clusters Around Fulfillment Centers')\n",
    "plt.show()"
   ]
  },
  {
   "cell_type": "code",
   "execution_count": 21,
   "id": "0130bfd1-313a-47c0-9ffe-6a389e1ecc67",
   "metadata": {},
   "outputs": [],
   "source": [
    "# saving the duka df into a csv file \n",
    "duka.to_csv('Duka_warehouese_coords_with_clusters.csv', index=False)"
   ]
  },
  {
   "cell_type": "code",
   "execution_count": null,
   "id": "90c0f9c3-1b7a-4c72-80b4-e8dcf0ee7247",
   "metadata": {},
   "outputs": [],
   "source": []
  }
 ],
 "metadata": {
  "kernelspec": {
   "display_name": "Python 3 (ipykernel)",
   "language": "python",
   "name": "python3"
  },
  "language_info": {
   "codemirror_mode": {
    "name": "ipython",
    "version": 3
   },
   "file_extension": ".py",
   "mimetype": "text/x-python",
   "name": "python",
   "nbconvert_exporter": "python",
   "pygments_lexer": "ipython3",
   "version": "3.11.7"
  }
 },
 "nbformat": 4,
 "nbformat_minor": 5
}
