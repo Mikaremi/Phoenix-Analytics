{
 "cells": [
  {
   "cell_type": "code",
   "execution_count": 1,
   "id": "9c2e7d8b-fa8c-4662-bb3b-b15e405fcdad",
   "metadata": {},
   "outputs": [],
   "source": [
    "# importing the required libraries \n",
    "import pandas as pd \n",
    "import numpy as np \n",
    "import matplotlib.pyplot as plt \n",
    "%matplotlib inline\n",
    "import seaborn as sns\n",
    "import warnings \n",
    "warnings.filterwarnings('ignore') "
   ]
  },
  {
   "cell_type": "code",
   "execution_count": 2,
   "id": "4150a132-029d-4aa8-9045-7a15d1bc407e",
   "metadata": {},
   "outputs": [
    {
     "data": {
      "text/html": [
       "<div>\n",
       "<style scoped>\n",
       "    .dataframe tbody tr th:only-of-type {\n",
       "        vertical-align: middle;\n",
       "    }\n",
       "\n",
       "    .dataframe tbody tr th {\n",
       "        vertical-align: top;\n",
       "    }\n",
       "\n",
       "    .dataframe thead th {\n",
       "        text-align: right;\n",
       "    }\n",
       "</style>\n",
       "<table border=\"1\" class=\"dataframe\">\n",
       "  <thead>\n",
       "    <tr style=\"text-align: right;\">\n",
       "      <th></th>\n",
       "      <th>order_id</th>\n",
       "      <th>customer_number</th>\n",
       "      <th>transaction_date</th>\n",
       "      <th>description</th>\n",
       "      <th>total_qty</th>\n",
       "      <th>net_total</th>\n",
       "      <th>loyalty_amount</th>\n",
       "      <th>loyalty_points</th>\n",
       "      <th>discount_amount</th>\n",
       "      <th>customer_group</th>\n",
       "      <th>territory</th>\n",
       "      <th>delivery_date</th>\n",
       "      <th>delivery_window_end_time</th>\n",
       "      <th>delivery_window_start_time</th>\n",
       "      <th>set_warehouse</th>\n",
       "      <th>duka_latitude</th>\n",
       "      <th>duka_longitude</th>\n",
       "    </tr>\n",
       "  </thead>\n",
       "  <tbody>\n",
       "    <tr>\n",
       "      <th>0</th>\n",
       "      <td>04aeddd4-d9b3-4cca-ab3b-072ca177a3e1</td>\n",
       "      <td>ID_172101</td>\n",
       "      <td>28/03/2022</td>\n",
       "      <td>Steam Energy Energy Drink 400ML CARTON (1.0 Item)</td>\n",
       "      <td>6</td>\n",
       "      <td>2231.57</td>\n",
       "      <td>0</td>\n",
       "      <td>0</td>\n",
       "      <td>66.38</td>\n",
       "      <td>Individual</td>\n",
       "      <td>Meru</td>\n",
       "      <td>29/03/2022</td>\n",
       "      <td>19:00:00</td>\n",
       "      <td>13:00:00</td>\n",
       "      <td>Meru Main - KDKE</td>\n",
       "      <td>0.036784</td>\n",
       "      <td>37.654155</td>\n",
       "    </tr>\n",
       "    <tr>\n",
       "      <th>1</th>\n",
       "      <td>04aeddd4-d9b3-4cca-ab3b-072ca177a3e1</td>\n",
       "      <td>ID_172101</td>\n",
       "      <td>28/03/2022</td>\n",
       "      <td>Sumo Candles 8PC CARTON (12.0 Outers)</td>\n",
       "      <td>6</td>\n",
       "      <td>2231.57</td>\n",
       "      <td>0</td>\n",
       "      <td>0</td>\n",
       "      <td>66.38</td>\n",
       "      <td>Individual</td>\n",
       "      <td>Meru</td>\n",
       "      <td>29/03/2022</td>\n",
       "      <td>19:00:00</td>\n",
       "      <td>13:00:00</td>\n",
       "      <td>Meru Main - KDKE</td>\n",
       "      <td>0.036784</td>\n",
       "      <td>37.654155</td>\n",
       "    </tr>\n",
       "    <tr>\n",
       "      <th>2</th>\n",
       "      <td>04aeddd4-d9b3-4cca-ab3b-072ca177a3e1</td>\n",
       "      <td>ID_172101</td>\n",
       "      <td>28/03/2022</td>\n",
       "      <td>Rhino Matches Kubwa 10 Boxes OUTER (1.0 Item)</td>\n",
       "      <td>6</td>\n",
       "      <td>2231.57</td>\n",
       "      <td>0</td>\n",
       "      <td>0</td>\n",
       "      <td>66.38</td>\n",
       "      <td>Individual</td>\n",
       "      <td>Meru</td>\n",
       "      <td>29/03/2022</td>\n",
       "      <td>19:00:00</td>\n",
       "      <td>13:00:00</td>\n",
       "      <td>Meru Main - KDKE</td>\n",
       "      <td>0.036784</td>\n",
       "      <td>37.654155</td>\n",
       "    </tr>\n",
       "    <tr>\n",
       "      <th>3</th>\n",
       "      <td>4da580db-3b2c-4dff-a181-9c1341e05ea5</td>\n",
       "      <td>ID_172101</td>\n",
       "      <td>12/03/2022</td>\n",
       "      <td>Dawn Tissue Rolls Smart 40PC BALE (1.0 Bale)</td>\n",
       "      <td>5</td>\n",
       "      <td>3637.91</td>\n",
       "      <td>0</td>\n",
       "      <td>0</td>\n",
       "      <td>38.53</td>\n",
       "      <td>Individual</td>\n",
       "      <td>Meru</td>\n",
       "      <td>14/03/2022</td>\n",
       "      <td>14:00:00</td>\n",
       "      <td>08:00:00</td>\n",
       "      <td>Meru Main - KDKE</td>\n",
       "      <td>0.036784</td>\n",
       "      <td>37.654155</td>\n",
       "    </tr>\n",
       "    <tr>\n",
       "      <th>4</th>\n",
       "      <td>4da580db-3b2c-4dff-a181-9c1341e05ea5</td>\n",
       "      <td>ID_172101</td>\n",
       "      <td>12/03/2022</td>\n",
       "      <td>Sawa Bath Soap 125G White DOZEN (1.0 Dzn)</td>\n",
       "      <td>5</td>\n",
       "      <td>3637.91</td>\n",
       "      <td>0</td>\n",
       "      <td>0</td>\n",
       "      <td>38.53</td>\n",
       "      <td>Individual</td>\n",
       "      <td>Meru</td>\n",
       "      <td>14/03/2022</td>\n",
       "      <td>14:00:00</td>\n",
       "      <td>08:00:00</td>\n",
       "      <td>Meru Main - KDKE</td>\n",
       "      <td>0.036784</td>\n",
       "      <td>37.654155</td>\n",
       "    </tr>\n",
       "  </tbody>\n",
       "</table>\n",
       "</div>"
      ],
      "text/plain": [
       "                               order_id customer_number transaction_date  \\\n",
       "0  04aeddd4-d9b3-4cca-ab3b-072ca177a3e1       ID_172101       28/03/2022   \n",
       "1  04aeddd4-d9b3-4cca-ab3b-072ca177a3e1       ID_172101       28/03/2022   \n",
       "2  04aeddd4-d9b3-4cca-ab3b-072ca177a3e1       ID_172101       28/03/2022   \n",
       "3  4da580db-3b2c-4dff-a181-9c1341e05ea5       ID_172101       12/03/2022   \n",
       "4  4da580db-3b2c-4dff-a181-9c1341e05ea5       ID_172101       12/03/2022   \n",
       "\n",
       "                                         description  total_qty  net_total  \\\n",
       "0  Steam Energy Energy Drink 400ML CARTON (1.0 Item)          6    2231.57   \n",
       "1              Sumo Candles 8PC CARTON (12.0 Outers)          6    2231.57   \n",
       "2      Rhino Matches Kubwa 10 Boxes OUTER (1.0 Item)          6    2231.57   \n",
       "3       Dawn Tissue Rolls Smart 40PC BALE (1.0 Bale)          5    3637.91   \n",
       "4          Sawa Bath Soap 125G White DOZEN (1.0 Dzn)          5    3637.91   \n",
       "\n",
       "   loyalty_amount  loyalty_points  discount_amount customer_group territory  \\\n",
       "0               0               0            66.38     Individual      Meru   \n",
       "1               0               0            66.38     Individual      Meru   \n",
       "2               0               0            66.38     Individual      Meru   \n",
       "3               0               0            38.53     Individual      Meru   \n",
       "4               0               0            38.53     Individual      Meru   \n",
       "\n",
       "  delivery_date delivery_window_end_time delivery_window_start_time  \\\n",
       "0    29/03/2022                 19:00:00                   13:00:00   \n",
       "1    29/03/2022                 19:00:00                   13:00:00   \n",
       "2    29/03/2022                 19:00:00                   13:00:00   \n",
       "3    14/03/2022                 14:00:00                   08:00:00   \n",
       "4    14/03/2022                 14:00:00                   08:00:00   \n",
       "\n",
       "      set_warehouse  duka_latitude  duka_longitude  \n",
       "0  Meru Main - KDKE       0.036784       37.654155  \n",
       "1  Meru Main - KDKE       0.036784       37.654155  \n",
       "2  Meru Main - KDKE       0.036784       37.654155  \n",
       "3  Meru Main - KDKE       0.036784       37.654155  \n",
       "4  Meru Main - KDKE       0.036784       37.654155  "
      ]
     },
     "execution_count": 2,
     "metadata": {},
     "output_type": "execute_result"
    }
   ],
   "source": [
    "# Reading the dataset \n",
    "df = pd.read_csv(r'dataset.csv')\n",
    "df.head()"
   ]
  },
  {
   "cell_type": "code",
   "execution_count": 3,
   "id": "2810c5cb-f4a6-4eb5-88fa-46d0b0c6b143",
   "metadata": {},
   "outputs": [
    {
     "data": {
      "text/plain": [
       "(43718, 17)"
      ]
     },
     "execution_count": 3,
     "metadata": {},
     "output_type": "execute_result"
    }
   ],
   "source": [
    "df.shape"
   ]
  },
  {
   "cell_type": "code",
   "execution_count": 4,
   "id": "b8153d19-e204-4936-afa2-e229e38e6fde",
   "metadata": {},
   "outputs": [
    {
     "name": "stdout",
     "output_type": "stream",
     "text": [
      "<class 'pandas.core.frame.DataFrame'>\n",
      "RangeIndex: 43718 entries, 0 to 43717\n",
      "Data columns (total 17 columns):\n",
      " #   Column                      Non-Null Count  Dtype  \n",
      "---  ------                      --------------  -----  \n",
      " 0   order_id                    43718 non-null  object \n",
      " 1   customer_number             43718 non-null  object \n",
      " 2   transaction_date            43718 non-null  object \n",
      " 3   description                 43718 non-null  object \n",
      " 4   total_qty                   43718 non-null  int64  \n",
      " 5   net_total                   43718 non-null  float64\n",
      " 6   loyalty_amount              43718 non-null  int64  \n",
      " 7   loyalty_points              43718 non-null  int64  \n",
      " 8   discount_amount             43718 non-null  float64\n",
      " 9   customer_group              43718 non-null  object \n",
      " 10  territory                   43718 non-null  object \n",
      " 11  delivery_date               43718 non-null  object \n",
      " 12  delivery_window_end_time    43718 non-null  object \n",
      " 13  delivery_window_start_time  43718 non-null  object \n",
      " 14  set_warehouse               43718 non-null  object \n",
      " 15  duka_latitude               43718 non-null  float64\n",
      " 16  duka_longitude              43718 non-null  float64\n",
      "dtypes: float64(4), int64(3), object(10)\n",
      "memory usage: 5.7+ MB\n"
     ]
    }
   ],
   "source": [
    "df.info()"
   ]
  },
  {
   "cell_type": "code",
   "execution_count": 5,
   "id": "026bc839-4be3-4945-bc93-358c68e82e78",
   "metadata": {},
   "outputs": [
    {
     "data": {
      "text/plain": [
       "order_id                      0\n",
       "customer_number               0\n",
       "transaction_date              0\n",
       "description                   0\n",
       "total_qty                     0\n",
       "net_total                     0\n",
       "loyalty_amount                0\n",
       "loyalty_points                0\n",
       "discount_amount               0\n",
       "customer_group                0\n",
       "territory                     0\n",
       "delivery_date                 0\n",
       "delivery_window_end_time      0\n",
       "delivery_window_start_time    0\n",
       "set_warehouse                 0\n",
       "duka_latitude                 0\n",
       "duka_longitude                0\n",
       "dtype: int64"
      ]
     },
     "execution_count": 5,
     "metadata": {},
     "output_type": "execute_result"
    }
   ],
   "source": [
    "df.isnull().sum()"
   ]
  },
  {
   "cell_type": "code",
   "execution_count": 6,
   "id": "1c75f333-3f38-4001-b950-e08579cbe989",
   "metadata": {},
   "outputs": [
    {
     "data": {
      "text/html": [
       "<div>\n",
       "<style scoped>\n",
       "    .dataframe tbody tr th:only-of-type {\n",
       "        vertical-align: middle;\n",
       "    }\n",
       "\n",
       "    .dataframe tbody tr th {\n",
       "        vertical-align: top;\n",
       "    }\n",
       "\n",
       "    .dataframe thead th {\n",
       "        text-align: right;\n",
       "    }\n",
       "</style>\n",
       "<table border=\"1\" class=\"dataframe\">\n",
       "  <thead>\n",
       "    <tr style=\"text-align: right;\">\n",
       "      <th></th>\n",
       "      <th>total_qty</th>\n",
       "      <th>net_total</th>\n",
       "      <th>loyalty_amount</th>\n",
       "      <th>loyalty_points</th>\n",
       "      <th>discount_amount</th>\n",
       "      <th>duka_latitude</th>\n",
       "      <th>duka_longitude</th>\n",
       "    </tr>\n",
       "  </thead>\n",
       "  <tbody>\n",
       "    <tr>\n",
       "      <th>count</th>\n",
       "      <td>43718.000000</td>\n",
       "      <td>4.371800e+04</td>\n",
       "      <td>43718.0</td>\n",
       "      <td>43718.0</td>\n",
       "      <td>43718.000000</td>\n",
       "      <td>43718.000000</td>\n",
       "      <td>43718.000000</td>\n",
       "    </tr>\n",
       "    <tr>\n",
       "      <th>mean</th>\n",
       "      <td>6.603367</td>\n",
       "      <td>1.046441e+04</td>\n",
       "      <td>0.0</td>\n",
       "      <td>0.0</td>\n",
       "      <td>178.727343</td>\n",
       "      <td>-1.218860</td>\n",
       "      <td>36.898733</td>\n",
       "    </tr>\n",
       "    <tr>\n",
       "      <th>std</th>\n",
       "      <td>13.364121</td>\n",
       "      <td>3.023364e+04</td>\n",
       "      <td>0.0</td>\n",
       "      <td>0.0</td>\n",
       "      <td>496.646786</td>\n",
       "      <td>1.066350</td>\n",
       "      <td>1.130535</td>\n",
       "    </tr>\n",
       "    <tr>\n",
       "      <th>min</th>\n",
       "      <td>1.000000</td>\n",
       "      <td>1.810300e+02</td>\n",
       "      <td>0.0</td>\n",
       "      <td>0.0</td>\n",
       "      <td>0.000000</td>\n",
       "      <td>-4.289833</td>\n",
       "      <td>34.455751</td>\n",
       "    </tr>\n",
       "    <tr>\n",
       "      <th>25%</th>\n",
       "      <td>2.000000</td>\n",
       "      <td>2.556318e+03</td>\n",
       "      <td>0.0</td>\n",
       "      <td>0.0</td>\n",
       "      <td>35.600000</td>\n",
       "      <td>-1.314316</td>\n",
       "      <td>36.715435</td>\n",
       "    </tr>\n",
       "    <tr>\n",
       "      <th>50%</th>\n",
       "      <td>4.000000</td>\n",
       "      <td>4.864660e+03</td>\n",
       "      <td>0.0</td>\n",
       "      <td>0.0</td>\n",
       "      <td>72.700000</td>\n",
       "      <td>-1.218128</td>\n",
       "      <td>36.905558</td>\n",
       "    </tr>\n",
       "    <tr>\n",
       "      <th>75%</th>\n",
       "      <td>7.000000</td>\n",
       "      <td>9.484540e+03</td>\n",
       "      <td>0.0</td>\n",
       "      <td>0.0</td>\n",
       "      <td>155.250000</td>\n",
       "      <td>-0.628575</td>\n",
       "      <td>37.023091</td>\n",
       "    </tr>\n",
       "    <tr>\n",
       "      <th>max</th>\n",
       "      <td>500.000000</td>\n",
       "      <td>1.379599e+06</td>\n",
       "      <td>0.0</td>\n",
       "      <td>0.0</td>\n",
       "      <td>20231.250000</td>\n",
       "      <td>0.885170</td>\n",
       "      <td>40.121896</td>\n",
       "    </tr>\n",
       "  </tbody>\n",
       "</table>\n",
       "</div>"
      ],
      "text/plain": [
       "          total_qty     net_total  loyalty_amount  loyalty_points  \\\n",
       "count  43718.000000  4.371800e+04         43718.0         43718.0   \n",
       "mean       6.603367  1.046441e+04             0.0             0.0   \n",
       "std       13.364121  3.023364e+04             0.0             0.0   \n",
       "min        1.000000  1.810300e+02             0.0             0.0   \n",
       "25%        2.000000  2.556318e+03             0.0             0.0   \n",
       "50%        4.000000  4.864660e+03             0.0             0.0   \n",
       "75%        7.000000  9.484540e+03             0.0             0.0   \n",
       "max      500.000000  1.379599e+06             0.0             0.0   \n",
       "\n",
       "       discount_amount  duka_latitude  duka_longitude  \n",
       "count     43718.000000   43718.000000    43718.000000  \n",
       "mean        178.727343      -1.218860       36.898733  \n",
       "std         496.646786       1.066350        1.130535  \n",
       "min           0.000000      -4.289833       34.455751  \n",
       "25%          35.600000      -1.314316       36.715435  \n",
       "50%          72.700000      -1.218128       36.905558  \n",
       "75%         155.250000      -0.628575       37.023091  \n",
       "max       20231.250000       0.885170       40.121896  "
      ]
     },
     "execution_count": 6,
     "metadata": {},
     "output_type": "execute_result"
    }
   ],
   "source": [
    "df.describe()"
   ]
  },
  {
   "cell_type": "code",
   "execution_count": 7,
   "id": "fbcf7401-d8d6-45fe-bb57-8e7af6a79174",
   "metadata": {},
   "outputs": [
    {
     "data": {
      "text/plain": [
       "order_id                       object\n",
       "customer_number                object\n",
       "transaction_date               object\n",
       "description                    object\n",
       "total_qty                       int64\n",
       "net_total                     float64\n",
       "loyalty_amount                  int64\n",
       "loyalty_points                  int64\n",
       "discount_amount               float64\n",
       "customer_group                 object\n",
       "territory                      object\n",
       "delivery_date                  object\n",
       "delivery_window_end_time       object\n",
       "delivery_window_start_time     object\n",
       "set_warehouse                  object\n",
       "duka_latitude                 float64\n",
       "duka_longitude                float64\n",
       "dtype: object"
      ]
     },
     "execution_count": 7,
     "metadata": {},
     "output_type": "execute_result"
    }
   ],
   "source": [
    "df.dtypes"
   ]
  },
  {
   "cell_type": "markdown",
   "id": "8edefc00-52d3-40cc-9f07-949a441a82a5",
   "metadata": {},
   "source": [
    "I am going to change the delivery_date, and the transaction_date into the correct datatype which is date "
   ]
  },
  {
   "cell_type": "code",
   "execution_count": 8,
   "id": "1d35f301-a94e-4f7f-bad8-9e0c187a4881",
   "metadata": {},
   "outputs": [],
   "source": [
    "# changing the datatypes of the transaction date and the delivery date\n",
    "df['transaction_date'] = pd.to_datetime(df['transaction_date'], format = '%d/%m/%Y') \n",
    "df['delivery_date'] = pd.to_datetime(df['delivery_date'], format = '%d/%m/%Y')"
   ]
  },
  {
   "cell_type": "code",
   "execution_count": 9,
   "id": "e5555c59-a3e7-4684-bfa4-4c4fe581b130",
   "metadata": {},
   "outputs": [
    {
     "data": {
      "text/plain": [
       "order_id                              object\n",
       "customer_number                       object\n",
       "transaction_date              datetime64[ns]\n",
       "description                           object\n",
       "total_qty                              int64\n",
       "net_total                            float64\n",
       "loyalty_amount                         int64\n",
       "loyalty_points                         int64\n",
       "discount_amount                      float64\n",
       "customer_group                        object\n",
       "territory                             object\n",
       "delivery_date                 datetime64[ns]\n",
       "delivery_window_end_time              object\n",
       "delivery_window_start_time            object\n",
       "set_warehouse                         object\n",
       "duka_latitude                        float64\n",
       "duka_longitude                       float64\n",
       "dtype: object"
      ]
     },
     "execution_count": 9,
     "metadata": {},
     "output_type": "execute_result"
    }
   ],
   "source": [
    "df.dtypes"
   ]
  },
  {
   "cell_type": "code",
   "execution_count": 10,
   "id": "f40793d1-178b-4329-8f19-5044c7d64c92",
   "metadata": {},
   "outputs": [],
   "source": [
    "# Next i can notice that columns loyalty amounts and loyalty points all contain zeros. \n",
    "# I am going to drop those two columns \n",
    "data = df.drop(columns=['loyalty_amount', 'loyalty_points'])"
   ]
  },
  {
   "cell_type": "code",
   "execution_count": 11,
   "id": "577ab98f-3b55-41bd-ac9c-420d4ed5616b",
   "metadata": {},
   "outputs": [
    {
     "data": {
      "text/plain": [
       "Index(['order_id', 'customer_number', 'transaction_date', 'description',\n",
       "       'total_qty', 'net_total', 'discount_amount', 'customer_group',\n",
       "       'territory', 'delivery_date', 'delivery_window_end_time',\n",
       "       'delivery_window_start_time', 'set_warehouse', 'duka_latitude',\n",
       "       'duka_longitude'],\n",
       "      dtype='object')"
      ]
     },
     "execution_count": 11,
     "metadata": {},
     "output_type": "execute_result"
    }
   ],
   "source": [
    "data.columns"
   ]
  },
  {
   "cell_type": "code",
   "execution_count": 12,
   "id": "30968fc7-d55e-4d90-9fa1-a6e07994f15a",
   "metadata": {},
   "outputs": [
    {
     "data": {
      "text/html": [
       "<div>\n",
       "<style scoped>\n",
       "    .dataframe tbody tr th:only-of-type {\n",
       "        vertical-align: middle;\n",
       "    }\n",
       "\n",
       "    .dataframe tbody tr th {\n",
       "        vertical-align: top;\n",
       "    }\n",
       "\n",
       "    .dataframe thead th {\n",
       "        text-align: right;\n",
       "    }\n",
       "</style>\n",
       "<table border=\"1\" class=\"dataframe\">\n",
       "  <thead>\n",
       "    <tr style=\"text-align: right;\">\n",
       "      <th></th>\n",
       "      <th>customer_number</th>\n",
       "      <th>transaction_date</th>\n",
       "    </tr>\n",
       "  </thead>\n",
       "  <tbody>\n",
       "    <tr>\n",
       "      <th>0</th>\n",
       "      <td>ID_000015</td>\n",
       "      <td>2022-03-23</td>\n",
       "    </tr>\n",
       "    <tr>\n",
       "      <th>1</th>\n",
       "      <td>ID_000088</td>\n",
       "      <td>2022-03-31</td>\n",
       "    </tr>\n",
       "    <tr>\n",
       "      <th>2</th>\n",
       "      <td>ID_000117</td>\n",
       "      <td>2022-03-14</td>\n",
       "    </tr>\n",
       "  </tbody>\n",
       "</table>\n",
       "</div>"
      ],
      "text/plain": [
       "  customer_number transaction_date\n",
       "0       ID_000015       2022-03-23\n",
       "1       ID_000088       2022-03-31\n",
       "2       ID_000117       2022-03-14"
      ]
     },
     "execution_count": 12,
     "metadata": {},
     "output_type": "execute_result"
    }
   ],
   "source": [
    "# defining the churn\n",
    "# the columns in question to come up with churn include:\n",
    "        # customer_number \n",
    "        # transaction_date \n",
    "        # order_id \n",
    "# so i am going to come up with RFM value i.e. Recency, Frequency, and Monetary value\n",
    "purchase_final = df.groupby('customer_number')['transaction_date'].max().reset_index()\n",
    "purchase_final.head(3)"
   ]
  },
  {
   "cell_type": "code",
   "execution_count": 13,
   "id": "50306ff6-5b49-48f0-86af-e10230928320",
   "metadata": {},
   "outputs": [],
   "source": [
    "# I am going to change the columns to be customer number and last purchase date \n",
    "purchase_final.columns = ['customer_number', 'last_purchase_date']"
   ]
  },
  {
   "cell_type": "code",
   "execution_count": 14,
   "id": "8f008e1b-9e26-4241-b7e9-7622a1b641d7",
   "metadata": {},
   "outputs": [
    {
     "data": {
      "text/html": [
       "<div>\n",
       "<style scoped>\n",
       "    .dataframe tbody tr th:only-of-type {\n",
       "        vertical-align: middle;\n",
       "    }\n",
       "\n",
       "    .dataframe tbody tr th {\n",
       "        vertical-align: top;\n",
       "    }\n",
       "\n",
       "    .dataframe thead th {\n",
       "        text-align: right;\n",
       "    }\n",
       "</style>\n",
       "<table border=\"1\" class=\"dataframe\">\n",
       "  <thead>\n",
       "    <tr style=\"text-align: right;\">\n",
       "      <th></th>\n",
       "      <th>customer_number</th>\n",
       "      <th>last_purchase_date</th>\n",
       "    </tr>\n",
       "  </thead>\n",
       "  <tbody>\n",
       "    <tr>\n",
       "      <th>0</th>\n",
       "      <td>ID_000015</td>\n",
       "      <td>2022-03-23</td>\n",
       "    </tr>\n",
       "    <tr>\n",
       "      <th>1</th>\n",
       "      <td>ID_000088</td>\n",
       "      <td>2022-03-31</td>\n",
       "    </tr>\n",
       "    <tr>\n",
       "      <th>2</th>\n",
       "      <td>ID_000117</td>\n",
       "      <td>2022-03-14</td>\n",
       "    </tr>\n",
       "  </tbody>\n",
       "</table>\n",
       "</div>"
      ],
      "text/plain": [
       "  customer_number last_purchase_date\n",
       "0       ID_000015         2022-03-23\n",
       "1       ID_000088         2022-03-31\n",
       "2       ID_000117         2022-03-14"
      ]
     },
     "execution_count": 14,
     "metadata": {},
     "output_type": "execute_result"
    }
   ],
   "source": [
    "purchase_final.head(3) "
   ]
  },
  {
   "cell_type": "code",
   "execution_count": 15,
   "id": "642b842a-4601-4b81-a5e6-5016974ab759",
   "metadata": {},
   "outputs": [],
   "source": [
    "# Now i want  to determine the days since the last transaction since the last purchase, \n",
    "# while assuming that the latest date in the dataset is the current date. \n",
    "current_date = df['transaction_date'].max() \n",
    "purchase_final['recency'] = (current_date - purchase_final['last_purchase_date']).dt.days \n"
   ]
  },
  {
   "cell_type": "code",
   "execution_count": 16,
   "id": "3904a951-ce96-43aa-a36b-8be68c0300d3",
   "metadata": {},
   "outputs": [],
   "source": [
    "# Next I am going to come up with the frequency i.e the total number of transactions per customer \n",
    "frequency = df.groupby('customer_number')['order_id'].nunique().reset_index()\n",
    "frequency.columns = ['customer_number', 'frequency'] "
   ]
  },
  {
   "cell_type": "code",
   "execution_count": 17,
   "id": "84a00bfb-0b75-44df-8e8e-c7e857c22bce",
   "metadata": {},
   "outputs": [],
   "source": [
    "# determining the total spending per customer\n",
    "spendings = df.groupby('customer_number')['net_total'].sum().reset_index() \n",
    "spendings.columns = ['customer_number', 'spendings'] "
   ]
  },
  {
   "cell_type": "code",
   "execution_count": 18,
   "id": "fd77ff37-4c8a-4260-b321-9fc58c0dc828",
   "metadata": {},
   "outputs": [
    {
     "data": {
      "text/html": [
       "<div>\n",
       "<style scoped>\n",
       "    .dataframe tbody tr th:only-of-type {\n",
       "        vertical-align: middle;\n",
       "    }\n",
       "\n",
       "    .dataframe tbody tr th {\n",
       "        vertical-align: top;\n",
       "    }\n",
       "\n",
       "    .dataframe thead th {\n",
       "        text-align: right;\n",
       "    }\n",
       "</style>\n",
       "<table border=\"1\" class=\"dataframe\">\n",
       "  <thead>\n",
       "    <tr style=\"text-align: right;\">\n",
       "      <th></th>\n",
       "      <th>customer_number</th>\n",
       "      <th>last_purchase_date</th>\n",
       "      <th>recency</th>\n",
       "      <th>frequency</th>\n",
       "      <th>spendings</th>\n",
       "    </tr>\n",
       "  </thead>\n",
       "  <tbody>\n",
       "    <tr>\n",
       "      <th>0</th>\n",
       "      <td>ID_000015</td>\n",
       "      <td>2022-03-23</td>\n",
       "      <td>8</td>\n",
       "      <td>16</td>\n",
       "      <td>229405.77</td>\n",
       "    </tr>\n",
       "    <tr>\n",
       "      <th>1</th>\n",
       "      <td>ID_000088</td>\n",
       "      <td>2022-03-31</td>\n",
       "      <td>0</td>\n",
       "      <td>28</td>\n",
       "      <td>563832.56</td>\n",
       "    </tr>\n",
       "    <tr>\n",
       "      <th>2</th>\n",
       "      <td>ID_000117</td>\n",
       "      <td>2022-03-14</td>\n",
       "      <td>17</td>\n",
       "      <td>1</td>\n",
       "      <td>68617.23</td>\n",
       "    </tr>\n",
       "    <tr>\n",
       "      <th>3</th>\n",
       "      <td>ID_000131</td>\n",
       "      <td>2022-03-25</td>\n",
       "      <td>6</td>\n",
       "      <td>4</td>\n",
       "      <td>277724.08</td>\n",
       "    </tr>\n",
       "    <tr>\n",
       "      <th>4</th>\n",
       "      <td>ID_000150</td>\n",
       "      <td>2022-03-24</td>\n",
       "      <td>7</td>\n",
       "      <td>9</td>\n",
       "      <td>282362.46</td>\n",
       "    </tr>\n",
       "  </tbody>\n",
       "</table>\n",
       "</div>"
      ],
      "text/plain": [
       "  customer_number last_purchase_date  recency  frequency  spendings\n",
       "0       ID_000015         2022-03-23        8         16  229405.77\n",
       "1       ID_000088         2022-03-31        0         28  563832.56\n",
       "2       ID_000117         2022-03-14       17          1   68617.23\n",
       "3       ID_000131         2022-03-25        6          4  277724.08\n",
       "4       ID_000150         2022-03-24        7          9  282362.46"
      ]
     },
     "execution_count": 18,
     "metadata": {},
     "output_type": "execute_result"
    }
   ],
   "source": [
    "# merging the data \n",
    "rfm = pd.merge(purchase_final, frequency, on='customer_number') \n",
    "rfm = pd.merge(rfm, spendings, on='customer_number') \n",
    "\n",
    "rfm.head()"
   ]
  },
  {
   "cell_type": "code",
   "execution_count": 19,
   "id": "a1854c63-d55a-4e7b-aa17-4e94c1717152",
   "metadata": {},
   "outputs": [
    {
     "data": {
      "text/plain": [
       "array([ 8,  0, 17,  6,  7,  3, 12, 30, 20, 23,  5,  1, 14,  2,  9, 29, 44,\n",
       "       42, 16, 21, 19, 10, 27, 35, 45, 33, 31, 24, 37,  4, 34, 22, 13, 40,\n",
       "       28, 38, 36, 41, 15, 26, 25, 11, 18, 48, 43, 39, 32, 47, 49],\n",
       "      dtype=int64)"
      ]
     },
     "execution_count": 19,
     "metadata": {},
     "output_type": "execute_result"
    }
   ],
   "source": [
    "rfm['recency'].unique()"
   ]
  },
  {
   "cell_type": "markdown",
   "id": "36cd874b-0a6f-4a4e-a7a4-24c7142043cc",
   "metadata": {},
   "source": [
    "Churn refers to  the number of customers who end their relationship with a company within a given period."
   ]
  },
  {
   "cell_type": "code",
   "execution_count": 20,
   "id": "8b712678-09f6-4a6d-8470-6c951c8dff1b",
   "metadata": {},
   "outputs": [
    {
     "data": {
      "image/png": "[encoded data removed]",
      "text/plain": [
       "<Figure size 640x480 with 1 Axes>"
      ]
     },
     "metadata": {},
     "output_type": "display_data"
    }
   ],
   "source": [
    "# check the distribution of the recency  values\n",
    "recency_values = [8, 0, 17, 6, 7, 3, 12, 30, 20, 23, 5, 1, 14, 2, 9, 29, 44, 42, 16, 21, 19, 10, 27, 35, 45, 33, 31, 24, 37, 4, 34, 22, 13, 40, 28, 38, 36, 41, 15, 26, 25, 11, 18, 48, 43, 39, 32, 47, 49]\n",
    "\n",
    "plt.hist(recency_values, bins=20, edgecolor='black')\n",
    "plt.xlabel('Recency (days)')\n",
    "plt.ylabel('Frequency')\n",
    "plt.title('Distribution of Recency Values')\n",
    "plt.show()"
   ]
  },
  {
   "cell_type": "code",
   "execution_count": 21,
   "id": "86a6941a-1424-42f1-95a4-bb1bfc4ad62c",
   "metadata": {},
   "outputs": [
    {
     "name": "stdout",
     "output_type": "stream",
     "text": [
      "mean recency : 24.06122448979592\n",
      "median recency : 24.0\n",
      "1st Quartile : 12.0\n",
      "3rd Quartile : 36.0\n"
     ]
    }
   ],
   "source": [
    "# calculate the median,mean, 25th percentile, and the 75th percentile. \n",
    "mean_ = np.mean(recency_values) \n",
    "median_ = np.median(recency_values) \n",
    "q1_ = np.percentile(recency_values, 25) \n",
    "q3_ = np.percentile(recency_values, 75) \n",
    "\n",
    "\n",
    "print(f\"mean recency : {mean_}\")\n",
    "print(f\"median recency : {median_}\") \n",
    "print(f\"1st Quartile : {q1_}\") \n",
    "print(f\"3rd Quartile : {q3_}\") "
   ]
  },
  {
   "cell_type": "markdown",
   "id": "9aeba02b-659c-4e40-800a-5bfbdd2ad63e",
   "metadata": {},
   "source": [
    "* Now form the statistical analysis done above, I have a descision to choose bewteen the 75th percentile (36.0) or the median (24)\n",
    "* I am going to base the churn threshold on the median because it is easier to understand and implement, it has abalanced approach, and balanced sensitivity."
   ]
  },
  {
   "cell_type": "code",
   "execution_count": 22,
   "id": "462ac5a8-8909-4dcf-b94c-8d57951d37c9",
   "metadata": {},
   "outputs": [
    {
     "data": {
      "text/html": [
       "<div>\n",
       "<style scoped>\n",
       "    .dataframe tbody tr th:only-of-type {\n",
       "        vertical-align: middle;\n",
       "    }\n",
       "\n",
       "    .dataframe tbody tr th {\n",
       "        vertical-align: top;\n",
       "    }\n",
       "\n",
       "    .dataframe thead th {\n",
       "        text-align: right;\n",
       "    }\n",
       "</style>\n",
       "<table border=\"1\" class=\"dataframe\">\n",
       "  <thead>\n",
       "    <tr style=\"text-align: right;\">\n",
       "      <th></th>\n",
       "      <th>customer_number</th>\n",
       "      <th>last_purchase_date</th>\n",
       "      <th>recency</th>\n",
       "      <th>frequency</th>\n",
       "      <th>spendings</th>\n",
       "      <th>churn</th>\n",
       "    </tr>\n",
       "  </thead>\n",
       "  <tbody>\n",
       "    <tr>\n",
       "      <th>0</th>\n",
       "      <td>ID_000015</td>\n",
       "      <td>2022-03-23</td>\n",
       "      <td>8</td>\n",
       "      <td>16</td>\n",
       "      <td>229405.77</td>\n",
       "      <td>False</td>\n",
       "    </tr>\n",
       "    <tr>\n",
       "      <th>1</th>\n",
       "      <td>ID_000088</td>\n",
       "      <td>2022-03-31</td>\n",
       "      <td>0</td>\n",
       "      <td>28</td>\n",
       "      <td>563832.56</td>\n",
       "      <td>False</td>\n",
       "    </tr>\n",
       "    <tr>\n",
       "      <th>2</th>\n",
       "      <td>ID_000117</td>\n",
       "      <td>2022-03-14</td>\n",
       "      <td>17</td>\n",
       "      <td>1</td>\n",
       "      <td>68617.23</td>\n",
       "      <td>False</td>\n",
       "    </tr>\n",
       "    <tr>\n",
       "      <th>3</th>\n",
       "      <td>ID_000131</td>\n",
       "      <td>2022-03-25</td>\n",
       "      <td>6</td>\n",
       "      <td>4</td>\n",
       "      <td>277724.08</td>\n",
       "      <td>False</td>\n",
       "    </tr>\n",
       "    <tr>\n",
       "      <th>4</th>\n",
       "      <td>ID_000150</td>\n",
       "      <td>2022-03-24</td>\n",
       "      <td>7</td>\n",
       "      <td>9</td>\n",
       "      <td>282362.46</td>\n",
       "      <td>False</td>\n",
       "    </tr>\n",
       "  </tbody>\n",
       "</table>\n",
       "</div>"
      ],
      "text/plain": [
       "  customer_number last_purchase_date  recency  frequency  spendings  churn\n",
       "0       ID_000015         2022-03-23        8         16  229405.77  False\n",
       "1       ID_000088         2022-03-31        0         28  563832.56  False\n",
       "2       ID_000117         2022-03-14       17          1   68617.23  False\n",
       "3       ID_000131         2022-03-25        6          4  277724.08  False\n",
       "4       ID_000150         2022-03-24        7          9  282362.46  False"
      ]
     },
     "execution_count": 22,
     "metadata": {},
     "output_type": "execute_result"
    }
   ],
   "source": [
    "churn_threshold = 24 # I am going to work with a churn threshold of 24 days. \n",
    "\n",
    "# I am going to mark the customers with a higher recency value than the churn_thrshold (24) as churned . \n",
    "rfm['churn'] = (rfm['recency'] > churn_threshold)\n",
    "\n",
    "rfm.head()"
   ]
  },
  {
   "cell_type": "code",
   "execution_count": 23,
   "id": "a1035ee0-f528-43d5-96e6-6bcdaada6bcd",
   "metadata": {},
   "outputs": [
    {
     "data": {
      "text/html": [
       "<div>\n",
       "<style scoped>\n",
       "    .dataframe tbody tr th:only-of-type {\n",
       "        vertical-align: middle;\n",
       "    }\n",
       "\n",
       "    .dataframe tbody tr th {\n",
       "        vertical-align: top;\n",
       "    }\n",
       "\n",
       "    .dataframe thead th {\n",
       "        text-align: right;\n",
       "    }\n",
       "</style>\n",
       "<table border=\"1\" class=\"dataframe\">\n",
       "  <thead>\n",
       "    <tr style=\"text-align: right;\">\n",
       "      <th></th>\n",
       "      <th>customer_number</th>\n",
       "      <th>last_purchase_date</th>\n",
       "      <th>recency</th>\n",
       "      <th>frequency</th>\n",
       "      <th>spendings</th>\n",
       "      <th>churn</th>\n",
       "    </tr>\n",
       "  </thead>\n",
       "  <tbody>\n",
       "    <tr>\n",
       "      <th>0</th>\n",
       "      <td>ID_000015</td>\n",
       "      <td>2022-03-23</td>\n",
       "      <td>8</td>\n",
       "      <td>16</td>\n",
       "      <td>229405.77</td>\n",
       "      <td>False</td>\n",
       "    </tr>\n",
       "    <tr>\n",
       "      <th>1</th>\n",
       "      <td>ID_000088</td>\n",
       "      <td>2022-03-31</td>\n",
       "      <td>0</td>\n",
       "      <td>28</td>\n",
       "      <td>563832.56</td>\n",
       "      <td>False</td>\n",
       "    </tr>\n",
       "    <tr>\n",
       "      <th>2</th>\n",
       "      <td>ID_000117</td>\n",
       "      <td>2022-03-14</td>\n",
       "      <td>17</td>\n",
       "      <td>1</td>\n",
       "      <td>68617.23</td>\n",
       "      <td>False</td>\n",
       "    </tr>\n",
       "    <tr>\n",
       "      <th>3</th>\n",
       "      <td>ID_000131</td>\n",
       "      <td>2022-03-25</td>\n",
       "      <td>6</td>\n",
       "      <td>4</td>\n",
       "      <td>277724.08</td>\n",
       "      <td>False</td>\n",
       "    </tr>\n",
       "    <tr>\n",
       "      <th>4</th>\n",
       "      <td>ID_000150</td>\n",
       "      <td>2022-03-24</td>\n",
       "      <td>7</td>\n",
       "      <td>9</td>\n",
       "      <td>282362.46</td>\n",
       "      <td>False</td>\n",
       "    </tr>\n",
       "    <tr>\n",
       "      <th>...</th>\n",
       "      <td>...</td>\n",
       "      <td>...</td>\n",
       "      <td>...</td>\n",
       "      <td>...</td>\n",
       "      <td>...</td>\n",
       "      <td>...</td>\n",
       "    </tr>\n",
       "    <tr>\n",
       "      <th>3392</th>\n",
       "      <td>ID_199795</td>\n",
       "      <td>2022-03-30</td>\n",
       "      <td>1</td>\n",
       "      <td>2</td>\n",
       "      <td>36294.69</td>\n",
       "      <td>False</td>\n",
       "    </tr>\n",
       "    <tr>\n",
       "      <th>3393</th>\n",
       "      <td>ID_199839</td>\n",
       "      <td>2022-03-31</td>\n",
       "      <td>0</td>\n",
       "      <td>2</td>\n",
       "      <td>95596.00</td>\n",
       "      <td>False</td>\n",
       "    </tr>\n",
       "    <tr>\n",
       "      <th>3394</th>\n",
       "      <td>ID_199840</td>\n",
       "      <td>2022-03-21</td>\n",
       "      <td>10</td>\n",
       "      <td>1</td>\n",
       "      <td>7688.19</td>\n",
       "      <td>False</td>\n",
       "    </tr>\n",
       "    <tr>\n",
       "      <th>3395</th>\n",
       "      <td>ID_199961</td>\n",
       "      <td>2022-03-13</td>\n",
       "      <td>18</td>\n",
       "      <td>2</td>\n",
       "      <td>24249.90</td>\n",
       "      <td>False</td>\n",
       "    </tr>\n",
       "    <tr>\n",
       "      <th>3396</th>\n",
       "      <td>ID_199986</td>\n",
       "      <td>2022-03-25</td>\n",
       "      <td>6</td>\n",
       "      <td>5</td>\n",
       "      <td>19771.23</td>\n",
       "      <td>False</td>\n",
       "    </tr>\n",
       "  </tbody>\n",
       "</table>\n",
       "<p>3397 rows × 6 columns</p>\n",
       "</div>"
      ],
      "text/plain": [
       "     customer_number last_purchase_date  recency  frequency  spendings  churn\n",
       "0          ID_000015         2022-03-23        8         16  229405.77  False\n",
       "1          ID_000088         2022-03-31        0         28  563832.56  False\n",
       "2          ID_000117         2022-03-14       17          1   68617.23  False\n",
       "3          ID_000131         2022-03-25        6          4  277724.08  False\n",
       "4          ID_000150         2022-03-24        7          9  282362.46  False\n",
       "...              ...                ...      ...        ...        ...    ...\n",
       "3392       ID_199795         2022-03-30        1          2   36294.69  False\n",
       "3393       ID_199839         2022-03-31        0          2   95596.00  False\n",
       "3394       ID_199840         2022-03-21       10          1    7688.19  False\n",
       "3395       ID_199961         2022-03-13       18          2   24249.90  False\n",
       "3396       ID_199986         2022-03-25        6          5   19771.23  False\n",
       "\n",
       "[3397 rows x 6 columns]"
      ]
     },
     "execution_count": 23,
     "metadata": {},
     "output_type": "execute_result"
    }
   ],
   "source": [
    "rfm"
   ]
  },
  {
   "cell_type": "code",
   "execution_count": 24,
   "id": "5a52cb2e-5de1-4ddd-b0be-e92d2e28bac5",
   "metadata": {},
   "outputs": [
    {
     "data": {
      "text/plain": [
       "churn\n",
       "False    2881\n",
       "True      516\n",
       "Name: count, dtype: int64"
      ]
     },
     "execution_count": 24,
     "metadata": {},
     "output_type": "execute_result"
    }
   ],
   "source": [
    "rfm['churn'].value_counts()"
   ]
  },
  {
   "cell_type": "code",
   "execution_count": 25,
   "id": "4be4ad98-bb94-4401-a3c1-d7a6758e8d94",
   "metadata": {},
   "outputs": [
    {
     "data": {
      "text/html": [
       "<div>\n",
       "<style scoped>\n",
       "    .dataframe tbody tr th:only-of-type {\n",
       "        vertical-align: middle;\n",
       "    }\n",
       "\n",
       "    .dataframe tbody tr th {\n",
       "        vertical-align: top;\n",
       "    }\n",
       "\n",
       "    .dataframe thead th {\n",
       "        text-align: right;\n",
       "    }\n",
       "</style>\n",
       "<table border=\"1\" class=\"dataframe\">\n",
       "  <thead>\n",
       "    <tr style=\"text-align: right;\">\n",
       "      <th></th>\n",
       "      <th>order_id</th>\n",
       "      <th>customer_number</th>\n",
       "      <th>transaction_date</th>\n",
       "      <th>description</th>\n",
       "      <th>total_qty</th>\n",
       "      <th>net_total</th>\n",
       "      <th>loyalty_amount</th>\n",
       "      <th>loyalty_points</th>\n",
       "      <th>discount_amount</th>\n",
       "      <th>customer_group</th>\n",
       "      <th>territory</th>\n",
       "      <th>delivery_date</th>\n",
       "      <th>delivery_window_end_time</th>\n",
       "      <th>delivery_window_start_time</th>\n",
       "      <th>set_warehouse</th>\n",
       "      <th>duka_latitude</th>\n",
       "      <th>duka_longitude</th>\n",
       "      <th>churn</th>\n",
       "    </tr>\n",
       "  </thead>\n",
       "  <tbody>\n",
       "    <tr>\n",
       "      <th>0</th>\n",
       "      <td>04aeddd4-d9b3-4cca-ab3b-072ca177a3e1</td>\n",
       "      <td>ID_172101</td>\n",
       "      <td>2022-03-28</td>\n",
       "      <td>Steam Energy Energy Drink 400ML CARTON (1.0 Item)</td>\n",
       "      <td>6</td>\n",
       "      <td>2231.57</td>\n",
       "      <td>0</td>\n",
       "      <td>0</td>\n",
       "      <td>66.38</td>\n",
       "      <td>Individual</td>\n",
       "      <td>Meru</td>\n",
       "      <td>2022-03-29</td>\n",
       "      <td>19:00:00</td>\n",
       "      <td>13:00:00</td>\n",
       "      <td>Meru Main - KDKE</td>\n",
       "      <td>0.036784</td>\n",
       "      <td>37.654155</td>\n",
       "      <td>False</td>\n",
       "    </tr>\n",
       "    <tr>\n",
       "      <th>1</th>\n",
       "      <td>04aeddd4-d9b3-4cca-ab3b-072ca177a3e1</td>\n",
       "      <td>ID_172101</td>\n",
       "      <td>2022-03-28</td>\n",
       "      <td>Sumo Candles 8PC CARTON (12.0 Outers)</td>\n",
       "      <td>6</td>\n",
       "      <td>2231.57</td>\n",
       "      <td>0</td>\n",
       "      <td>0</td>\n",
       "      <td>66.38</td>\n",
       "      <td>Individual</td>\n",
       "      <td>Meru</td>\n",
       "      <td>2022-03-29</td>\n",
       "      <td>19:00:00</td>\n",
       "      <td>13:00:00</td>\n",
       "      <td>Meru Main - KDKE</td>\n",
       "      <td>0.036784</td>\n",
       "      <td>37.654155</td>\n",
       "      <td>False</td>\n",
       "    </tr>\n",
       "    <tr>\n",
       "      <th>2</th>\n",
       "      <td>04aeddd4-d9b3-4cca-ab3b-072ca177a3e1</td>\n",
       "      <td>ID_172101</td>\n",
       "      <td>2022-03-28</td>\n",
       "      <td>Rhino Matches Kubwa 10 Boxes OUTER (1.0 Item)</td>\n",
       "      <td>6</td>\n",
       "      <td>2231.57</td>\n",
       "      <td>0</td>\n",
       "      <td>0</td>\n",
       "      <td>66.38</td>\n",
       "      <td>Individual</td>\n",
       "      <td>Meru</td>\n",
       "      <td>2022-03-29</td>\n",
       "      <td>19:00:00</td>\n",
       "      <td>13:00:00</td>\n",
       "      <td>Meru Main - KDKE</td>\n",
       "      <td>0.036784</td>\n",
       "      <td>37.654155</td>\n",
       "      <td>False</td>\n",
       "    </tr>\n",
       "  </tbody>\n",
       "</table>\n",
       "</div>"
      ],
      "text/plain": [
       "                               order_id customer_number transaction_date  \\\n",
       "0  04aeddd4-d9b3-4cca-ab3b-072ca177a3e1       ID_172101       2022-03-28   \n",
       "1  04aeddd4-d9b3-4cca-ab3b-072ca177a3e1       ID_172101       2022-03-28   \n",
       "2  04aeddd4-d9b3-4cca-ab3b-072ca177a3e1       ID_172101       2022-03-28   \n",
       "\n",
       "                                         description  total_qty  net_total  \\\n",
       "0  Steam Energy Energy Drink 400ML CARTON (1.0 Item)          6    2231.57   \n",
       "1              Sumo Candles 8PC CARTON (12.0 Outers)          6    2231.57   \n",
       "2      Rhino Matches Kubwa 10 Boxes OUTER (1.0 Item)          6    2231.57   \n",
       "\n",
       "   loyalty_amount  loyalty_points  discount_amount customer_group territory  \\\n",
       "0               0               0            66.38     Individual      Meru   \n",
       "1               0               0            66.38     Individual      Meru   \n",
       "2               0               0            66.38     Individual      Meru   \n",
       "\n",
       "  delivery_date delivery_window_end_time delivery_window_start_time  \\\n",
       "0    2022-03-29                 19:00:00                   13:00:00   \n",
       "1    2022-03-29                 19:00:00                   13:00:00   \n",
       "2    2022-03-29                 19:00:00                   13:00:00   \n",
       "\n",
       "      set_warehouse  duka_latitude  duka_longitude  churn  \n",
       "0  Meru Main - KDKE       0.036784       37.654155  False  \n",
       "1  Meru Main - KDKE       0.036784       37.654155  False  \n",
       "2  Meru Main - KDKE       0.036784       37.654155  False  "
      ]
     },
     "execution_count": 25,
     "metadata": {},
     "output_type": "execute_result"
    }
   ],
   "source": [
    "# merging the dataframe that contain the churn data back to the original dataframe. \n",
    "df_new = pd.merge(df, rfm[['customer_number', 'churn']], on= 'customer_number', how = 'left')\n",
    "df_new.head(3)"
   ]
  },
  {
   "cell_type": "code",
   "execution_count": 26,
   "id": "7cfb658c-722a-439d-9e19-02fae3e44435",
   "metadata": {},
   "outputs": [],
   "source": [
    "# I want perform label encoding on the categorical columns that are going to be useful in predicting churn \n",
    "from sklearn.preprocessing import LabelEncoder\n",
    "le = LabelEncoder()\n",
    "\n",
    "df_new['customer_group'] = le.fit_transform(df_new['customer_group']) \n",
    "df_new['territory'] = le.fit_transform(df_new['territory']) \n",
    "df_new['set_warehouse'] = le.fit_transform(df_new['set_warehouse']) "
   ]
  },
  {
   "cell_type": "code",
   "execution_count": 27,
   "id": "54967292-66b9-4e64-b56c-c351a32c8141",
   "metadata": {},
   "outputs": [
    {
     "data": {
      "image/png": "[encoded data removed]",
      "text/plain": [
       "<Figure size 1200x800 with 2 Axes>"
      ]
     },
     "metadata": {},
     "output_type": "display_data"
    }
   ],
   "source": [
    "# Vizualization \n",
    "\n",
    "# correlation heatmap \n",
    "numerical_values = df.select_dtypes(include = ['number'])\n",
    "plt.figure(figsize=(12,8)) \n",
    "sns.heatmap(numerical_values.corr(), annot=True, cmap='icefire', fmt='.2f') \n",
    "plt.title('Correlation Matrix')\n",
    "plt.show()"
   ]
  },
  {
   "cell_type": "code",
   "execution_count": 28,
   "id": "1dbb9be6-b4ac-4757-82a3-e8366b839cc3",
   "metadata": {},
   "outputs": [
    {
     "data": {
      "image/png": "[encoded data removed]",
      "text/plain": [
       "<Figure size 640x480 with 1 Axes>"
      ]
     },
     "metadata": {},
     "output_type": "display_data"
    }
   ],
   "source": [
    "# distibution of the customer group \n",
    "sns.countplot(data = df, x = 'customer_group')\n",
    "plt.title('distribution of customer group')\n",
    "plt.show()"
   ]
  },
  {
   "cell_type": "code",
   "execution_count": 29,
   "id": "588e57b6-d993-4598-8a6c-83e6166b95e5",
   "metadata": {},
   "outputs": [
    {
     "data": {
      "image/png": "[encoded data removed]",
      "text/plain": [
       "<Figure size 1200x600 with 1 Axes>"
      ]
     },
     "metadata": {},
     "output_type": "display_data"
    }
   ],
   "source": [
    "# the trend of sales over time \n",
    "df.groupby('transaction_date')['net_total'].sum().plot(figsize=(12,6))\n",
    "plt.title('Sales overtime') \n",
    "plt.ylabel('net total')\n",
    "plt.show()"
   ]
  },
  {
   "cell_type": "code",
   "execution_count": 30,
   "id": "1182c6d2-1855-4263-9a65-80fd7339fa36",
   "metadata": {},
   "outputs": [],
   "source": [
    "# churn predictoion using the random forest model \n",
    "from sklearn.ensemble import RandomForestClassifier \n",
    "from sklearn.metrics import accuracy_score, confusion_matrix, classification_report\n",
    "from sklearn.model_selection import train_test_split"
   ]
  },
  {
   "cell_type": "code",
   "execution_count": 31,
   "id": "741f8c8b-0e4c-41ea-9870-87013c62cb3b",
   "metadata": {},
   "outputs": [],
   "source": [
    "X = df_new.drop(columns = ['customer_number', 'order_id', 'description', 'transaction_date', 'delivery_date', 'delivery_window_end_time', 'delivery_window_start_time', 'churn']) \n",
    "y = df_new['churn'] \n",
    "\n",
    "X_train, X_test, y_train, y_test = train_test_split(X,y, test_size=0.2, random_state=42) "
   ]
  },
  {
   "cell_type": "code",
   "execution_count": 33,
   "id": "8e0bfb92-d0e4-47b6-b2c3-6f4528ccdb83",
   "metadata": {},
   "outputs": [
    {
     "data": {
      "text/html": [
       "<style>#sk-container-id-1 {color: black;background-color: white;}#sk-container-id-1 pre{padding: 0;}#sk-container-id-1 div.sk-toggleable {background-color: white;}#sk-container-id-1 label.sk-toggleable__label {cursor: pointer;display: block;width: 100%;margin-bottom: 0;padding: 0.3em;box-sizing: border-box;text-align: center;}#sk-container-id-1 label.sk-toggleable__label-arrow:before {content: \"▸\";float: left;margin-right: 0.25em;color: #696969;}#sk-container-id-1 label.sk-toggleable__label-arrow:hover:before {color: black;}#sk-container-id-1 div.sk-estimator:hover label.sk-toggleable__label-arrow:before {color: black;}#sk-container-id-1 div.sk-toggleable__content {max-height: 0;max-width: 0;overflow: hidden;text-align: left;background-color: #f0f8ff;}#sk-container-id-1 div.sk-toggleable__content pre {margin: 0.2em;color: black;border-radius: 0.25em;background-color: #f0f8ff;}#sk-container-id-1 input.sk-toggleable__control:checked~div.sk-toggleable__content {max-height: 200px;max-width: 100%;overflow: auto;}#sk-container-id-1 input.sk-toggleable__control:checked~label.sk-toggleable__label-arrow:before {content: \"▾\";}#sk-container-id-1 div.sk-estimator input.sk-toggleable__control:checked~label.sk-toggleable__label {background-color: #d4ebff;}#sk-container-id-1 div.sk-label input.sk-toggleable__control:checked~label.sk-toggleable__label {background-color: #d4ebff;}#sk-container-id-1 input.sk-hidden--visually {border: 0;clip: rect(1px 1px 1px 1px);clip: rect(1px, 1px, 1px, 1px);height: 1px;margin: -1px;overflow: hidden;padding: 0;position: absolute;width: 1px;}#sk-container-id-1 div.sk-estimator {font-family: monospace;background-color: #f0f8ff;border: 1px dotted black;border-radius: 0.25em;box-sizing: border-box;margin-bottom: 0.5em;}#sk-container-id-1 div.sk-estimator:hover {background-color: #d4ebff;}#sk-container-id-1 div.sk-parallel-item::after {content: \"\";width: 100%;border-bottom: 1px solid gray;flex-grow: 1;}#sk-container-id-1 div.sk-label:hover label.sk-toggleable__label {background-color: #d4ebff;}#sk-container-id-1 div.sk-serial::before {content: \"\";position: absolute;border-left: 1px solid gray;box-sizing: border-box;top: 0;bottom: 0;left: 50%;z-index: 0;}#sk-container-id-1 div.sk-serial {display: flex;flex-direction: column;align-items: center;background-color: white;padding-right: 0.2em;padding-left: 0.2em;position: relative;}#sk-container-id-1 div.sk-item {position: relative;z-index: 1;}#sk-container-id-1 div.sk-parallel {display: flex;align-items: stretch;justify-content: center;background-color: white;position: relative;}#sk-container-id-1 div.sk-item::before, #sk-container-id-1 div.sk-parallel-item::before {content: \"\";position: absolute;border-left: 1px solid gray;box-sizing: border-box;top: 0;bottom: 0;left: 50%;z-index: -1;}#sk-container-id-1 div.sk-parallel-item {display: flex;flex-direction: column;z-index: 1;position: relative;background-color: white;}#sk-container-id-1 div.sk-parallel-item:first-child::after {align-self: flex-end;width: 50%;}#sk-container-id-1 div.sk-parallel-item:last-child::after {align-self: flex-start;width: 50%;}#sk-container-id-1 div.sk-parallel-item:only-child::after {width: 0;}#sk-container-id-1 div.sk-dashed-wrapped {border: 1px dashed gray;margin: 0 0.4em 0.5em 0.4em;box-sizing: border-box;padding-bottom: 0.4em;background-color: white;}#sk-container-id-1 div.sk-label label {font-family: monospace;font-weight: bold;display: inline-block;line-height: 1.2em;}#sk-container-id-1 div.sk-label-container {text-align: center;}#sk-container-id-1 div.sk-container {/* jupyter's `normalize.less` sets `[hidden] { display: none; }` but bootstrap.min.css set `[hidden] { display: none !important; }` so we also need the `!important` here to be able to override the default hidden behavior on the sphinx rendered scikit-learn.org. See: https://github.com/scikit-learn/scikit-learn/issues/21755 */display: inline-block !important;position: relative;}#sk-container-id-1 div.sk-text-repr-fallback {display: none;}</style><div id=\"sk-container-id-1\" class=\"sk-top-container\"><div class=\"sk-text-repr-fallback\"><pre>RandomForestClassifier(random_state=42)</pre><b>In a Jupyter environment, please rerun this cell to show the HTML representation or trust the notebook. <br />On GitHub, the HTML representation is unable to render, please try loading this page with nbviewer.org.</b></div><div class=\"sk-container\" hidden><div class=\"sk-item\"><div class=\"sk-estimator sk-toggleable\"><input class=\"sk-toggleable__control sk-hidden--visually\" id=\"sk-estimator-id-1\" type=\"checkbox\" checked><label for=\"sk-estimator-id-1\" class=\"sk-toggleable__label sk-toggleable__label-arrow\">RandomForestClassifier</label><div class=\"sk-toggleable__content\"><pre>RandomForestClassifier(random_state=42)</pre></div></div></div></div></div>"
      ],
      "text/plain": [
       "RandomForestClassifier(random_state=42)"
      ]
     },
     "execution_count": 33,
     "metadata": {},
     "output_type": "execute_result"
    }
   ],
   "source": [
    "#training the model \n",
    "model = RandomForestClassifier(random_state=42) \n",
    "model.fit(X_train, y_train) "
   ]
  },
  {
   "cell_type": "code",
   "execution_count": 34,
   "id": "ef55fcf7-5780-4aff-aaec-a4a7e7b9ec24",
   "metadata": {},
   "outputs": [],
   "source": [
    "y_pred = model.predict(X_test)"
   ]
  },
  {
   "cell_type": "code",
   "execution_count": 35,
   "id": "c2ec8718-f897-46b1-9025-96f60df66fde",
   "metadata": {},
   "outputs": [
    {
     "data": {
      "text/plain": [
       "0.9871912168344007"
      ]
     },
     "execution_count": 35,
     "metadata": {},
     "output_type": "execute_result"
    }
   ],
   "source": [
    "accuracy = accuracy_score(y_test, y_pred)\n",
    "accuracy"
   ]
  },
  {
   "cell_type": "code",
   "execution_count": 36,
   "id": "d836b8d1-971d-4e9c-a38c-aa92289a0136",
   "metadata": {},
   "outputs": [
    {
     "data": {
      "text/plain": [
       "array([[8336,    7],\n",
       "       [ 105,  296]], dtype=int64)"
      ]
     },
     "execution_count": 36,
     "metadata": {},
     "output_type": "execute_result"
    }
   ],
   "source": [
    "confusion_matrix(y_test, y_pred)"
   ]
  },
  {
   "cell_type": "code",
   "execution_count": 38,
   "id": "7132fa6d-74b8-4244-a4a1-ed944ef94228",
   "metadata": {},
   "outputs": [
    {
     "name": "stdout",
     "output_type": "stream",
     "text": [
      "              precision    recall  f1-score   support\n",
      "\n",
      "       False       0.99      1.00      0.99      8343\n",
      "        True       0.98      0.74      0.84       401\n",
      "\n",
      "    accuracy                           0.99      8744\n",
      "   macro avg       0.98      0.87      0.92      8744\n",
      "weighted avg       0.99      0.99      0.99      8744\n",
      "\n"
     ]
    }
   ],
   "source": [
    "print(classification_report(y_test, y_pred)) "
   ]
  },
  {
   "cell_type": "code",
   "execution_count": 41,
   "id": "47c40642-6796-4c19-b2e7-60399ddd109c",
   "metadata": {},
   "outputs": [
    {
     "data": {
      "text/html": [
       "<div>\n",
       "<style scoped>\n",
       "    .dataframe tbody tr th:only-of-type {\n",
       "        vertical-align: middle;\n",
       "    }\n",
       "\n",
       "    .dataframe tbody tr th {\n",
       "        vertical-align: top;\n",
       "    }\n",
       "\n",
       "    .dataframe thead th {\n",
       "        text-align: right;\n",
       "    }\n",
       "</style>\n",
       "<table border=\"1\" class=\"dataframe\">\n",
       "  <thead>\n",
       "    <tr style=\"text-align: right;\">\n",
       "      <th></th>\n",
       "      <th>customer_number</th>\n",
       "      <th>churn</th>\n",
       "    </tr>\n",
       "  </thead>\n",
       "  <tbody>\n",
       "    <tr>\n",
       "      <th>0</th>\n",
       "      <td>17994</td>\n",
       "      <td>False</td>\n",
       "    </tr>\n",
       "    <tr>\n",
       "      <th>1</th>\n",
       "      <td>14792</td>\n",
       "      <td>True</td>\n",
       "    </tr>\n",
       "    <tr>\n",
       "      <th>2</th>\n",
       "      <td>37949</td>\n",
       "      <td>False</td>\n",
       "    </tr>\n",
       "    <tr>\n",
       "      <th>3</th>\n",
       "      <td>10849</td>\n",
       "      <td>False</td>\n",
       "    </tr>\n",
       "    <tr>\n",
       "      <th>4</th>\n",
       "      <td>12376</td>\n",
       "      <td>False</td>\n",
       "    </tr>\n",
       "  </tbody>\n",
       "</table>\n",
       "</div>"
      ],
      "text/plain": [
       "   customer_number  churn\n",
       "0            17994  False\n",
       "1            14792   True\n",
       "2            37949  False\n",
       "3            10849  False\n",
       "4            12376  False"
      ]
     },
     "execution_count": 41,
     "metadata": {},
     "output_type": "execute_result"
    }
   ],
   "source": [
    "churn_results = pd.DataFrame({\n",
    "    'customer_number': X_test.index,  # Assuming customer_number is the index\n",
    "    'churn': y_pred\n",
    "})\n",
    "\n",
    "churn_results.head()"
   ]
  },
  {
   "cell_type": "code",
   "execution_count": 47,
   "id": "2b3b388e-1c75-412d-ac13-329509403c94",
   "metadata": {},
   "outputs": [
    {
     "data": {
      "text/plain": [
       "churn\n",
       "False    8441\n",
       "True      303\n",
       "Name: count, dtype: int64"
      ]
     },
     "execution_count": 47,
     "metadata": {},
     "output_type": "execute_result"
    }
   ],
   "source": [
    "churn_results.churn.value_counts()"
   ]
  },
  {
   "cell_type": "code",
   "execution_count": 49,
   "id": "0912ded9-4dba-41ba-b0b3-e8773973cbe2",
   "metadata": {},
   "outputs": [],
   "source": [
    "churn_results.to_csv('customer_churn_predictions.csv', index=False)"
   ]
  },
  {
   "cell_type": "code",
   "execution_count": null,
   "id": "67cda1cc-e5b6-4ed6-a072-ed9d31bf1aa6",
   "metadata": {},
   "outputs": [],
   "source": []
  }
 ],
 "metadata": {
  "kernelspec": {
   "display_name": "Python 3 (ipykernel)",
   "language": "python",
   "name": "python3"
  },
  "language_info": {
   "codemirror_mode": {
    "name": "ipython",
    "version": 3
   },
   "file_extension": ".py",
   "mimetype": "text/x-python",
   "name": "python",
   "nbconvert_exporter": "python",
   "pygments_lexer": "ipython3",
   "version": "3.11.7"
  }
 },
 "nbformat": 4,
 "nbformat_minor": 5
}
